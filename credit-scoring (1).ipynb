{
 "cells": [
  {
   "cell_type": "code",
   "execution_count": 1,
   "id": "4c5d069b",
   "metadata": {
    "_cell_guid": "b1076dfc-b9ad-4769-8c92-a6c4dae69d19",
    "_uuid": "8f2839f25d086af736a60e9eeb907d3b93b6e0e5",
    "execution": {
     "iopub.execute_input": "2021-07-13T20:45:49.860520Z",
     "iopub.status.busy": "2021-07-13T20:45:49.859933Z",
     "iopub.status.idle": "2021-07-13T20:45:49.866605Z",
     "shell.execute_reply": "2021-07-13T20:45:49.866000Z",
     "shell.execute_reply.started": "2021-07-13T20:42:34.751009Z"
    },
    "papermill": {
     "duration": 0.045744,
     "end_time": "2021-07-13T20:45:49.866761",
     "exception": false,
     "start_time": "2021-07-13T20:45:49.821017",
     "status": "completed"
    },
    "tags": []
   },
   "outputs": [
    {
     "name": "stdout",
     "output_type": "stream",
     "text": [
      "/kaggle/input/sf-dst-scoring/sample_submission.csv\n",
      "/kaggle/input/sf-dst-scoring/train.csv\n",
      "/kaggle/input/sf-dst-scoring/test.csv\n"
     ]
    }
   ],
   "source": [
    "# This Python 3 environment comes with many helpful analytics libraries installed\n",
    "# It is defined by the kaggle/python Docker image: https://github.com/kaggle/docker-python\n",
    "# For example, here's several helpful packages to load\n",
    "\n",
    "import numpy as np # linear algebra\n",
    "import pandas as pd # data processing, CSV file I/O (e.g. pd.read_csv)\n",
    "\n",
    "# Input data files are available in the read-only \"../input/\" directory\n",
    "# For example, running this (by clicking run or pressing Shift+Enter) will list all files under the input directory\n",
    "\n",
    "import os\n",
    "for dirname, _, filenames in os.walk('/kaggle/input'):\n",
    "    for filename in filenames:\n",
    "        print(os.path.join(dirname, filename))\n",
    "\n",
    "# You can write up to 20GB to the current directory (/kaggle/working/) that gets preserved as output when you create a version using \"Save & Run All\" \n",
    "# You can also write temporary files to /kaggle/temp/, but they won't be saved outside of the current session"
   ]
  },
  {
   "cell_type": "code",
   "execution_count": 2,
   "id": "5097eb9b",
   "metadata": {
    "execution": {
     "iopub.execute_input": "2021-07-13T20:45:49.929328Z",
     "iopub.status.busy": "2021-07-13T20:45:49.928586Z",
     "iopub.status.idle": "2021-07-13T20:45:51.107135Z",
     "shell.execute_reply": "2021-07-13T20:45:51.107645Z",
     "shell.execute_reply.started": "2021-07-13T20:42:34.763854Z"
    },
    "papermill": {
     "duration": 1.212171,
     "end_time": "2021-07-13T20:45:51.107845",
     "exception": false,
     "start_time": "2021-07-13T20:45:49.895674",
     "status": "completed"
    },
    "tags": []
   },
   "outputs": [],
   "source": [
    "import pandas as pd\n",
    "import numpy as np\n",
    "import datetime\n",
    "import matplotlib.pyplot as plt\n",
    "import seaborn as sns \n",
    "from sklearn.preprocessing import LabelEncoder, OneHotEncoder, StandardScaler\n",
    "from sklearn.metrics import plot_confusion_matrix\n",
    "from sklearn.model_selection import train_test_split\n",
    "from sklearn.metrics import auc, roc_auc_score, roc_curve\n",
    "from sklearn.linear_model import LogisticRegression\n",
    "from sklearn.metrics import accuracy_score, precision_score, recall_score, f1_score"
   ]
  },
  {
   "cell_type": "markdown",
   "id": "7bb6e2f9",
   "metadata": {
    "papermill": {
     "duration": 0.029773,
     "end_time": "2021-07-13T20:45:51.175662",
     "exception": false,
     "start_time": "2021-07-13T20:45:51.145889",
     "status": "completed"
    },
    "tags": []
   },
   "source": [
    "Посмотрим на данные\n"
   ]
  },
  {
   "cell_type": "code",
   "execution_count": 3,
   "id": "f9f4698a",
   "metadata": {
    "execution": {
     "iopub.execute_input": "2021-07-13T20:45:51.235439Z",
     "iopub.status.busy": "2021-07-13T20:45:51.234891Z",
     "iopub.status.idle": "2021-07-13T20:45:51.238641Z",
     "shell.execute_reply": "2021-07-13T20:45:51.239118Z",
     "shell.execute_reply.started": "2021-07-13T20:42:34.780229Z"
    },
    "papermill": {
     "duration": 0.034988,
     "end_time": "2021-07-13T20:45:51.239270",
     "exception": false,
     "start_time": "2021-07-13T20:45:51.204282",
     "status": "completed"
    },
    "tags": []
   },
   "outputs": [],
   "source": [
    "path = '/kaggle/input/sf-dst-scoring/'"
   ]
  },
  {
   "cell_type": "code",
   "execution_count": 4,
   "id": "3bd8fd47",
   "metadata": {
    "execution": {
     "iopub.execute_input": "2021-07-13T20:45:51.301012Z",
     "iopub.status.busy": "2021-07-13T20:45:51.300427Z",
     "iopub.status.idle": "2021-07-13T20:45:51.599239Z",
     "shell.execute_reply": "2021-07-13T20:45:51.598699Z",
     "shell.execute_reply.started": "2021-07-13T20:42:34.791414Z"
    },
    "papermill": {
     "duration": 0.331425,
     "end_time": "2021-07-13T20:45:51.599376",
     "exception": false,
     "start_time": "2021-07-13T20:45:51.267951",
     "status": "completed"
    },
    "tags": []
   },
   "outputs": [],
   "source": [
    "train = pd.read_csv(path+'train.csv')\n",
    "test = pd.read_csv(path+'test.csv')\n",
    "sample = pd.read_csv(path+'sample_submission.csv')"
   ]
  },
  {
   "cell_type": "code",
   "execution_count": 5,
   "id": "243459f2",
   "metadata": {
    "execution": {
     "iopub.execute_input": "2021-07-13T20:45:51.675656Z",
     "iopub.status.busy": "2021-07-13T20:45:51.675038Z",
     "iopub.status.idle": "2021-07-13T20:45:51.714187Z",
     "shell.execute_reply": "2021-07-13T20:45:51.714820Z",
     "shell.execute_reply.started": "2021-07-13T20:42:35.044579Z"
    },
    "papermill": {
     "duration": 0.086842,
     "end_time": "2021-07-13T20:45:51.715050",
     "exception": false,
     "start_time": "2021-07-13T20:45:51.628208",
     "status": "completed"
    },
    "tags": []
   },
   "outputs": [
    {
     "name": "stdout",
     "output_type": "stream",
     "text": [
      "<class 'pandas.core.frame.DataFrame'>\n",
      "RangeIndex: 73799 entries, 0 to 73798\n",
      "Data columns (total 19 columns):\n",
      " #   Column            Non-Null Count  Dtype  \n",
      "---  ------            --------------  -----  \n",
      " 0   client_id         73799 non-null  int64  \n",
      " 1   app_date          73799 non-null  object \n",
      " 2   education         73492 non-null  object \n",
      " 3   sex               73799 non-null  object \n",
      " 4   age               73799 non-null  int64  \n",
      " 5   car               73799 non-null  object \n",
      " 6   car_type          73799 non-null  object \n",
      " 7   decline_app_cnt   73799 non-null  int64  \n",
      " 8   good_work         73799 non-null  int64  \n",
      " 9   score_bki         73799 non-null  float64\n",
      " 10  bki_request_cnt   73799 non-null  int64  \n",
      " 11  region_rating     73799 non-null  int64  \n",
      " 12  home_address      73799 non-null  int64  \n",
      " 13  work_address      73799 non-null  int64  \n",
      " 14  income            73799 non-null  int64  \n",
      " 15  sna               73799 non-null  int64  \n",
      " 16  first_time        73799 non-null  int64  \n",
      " 17  foreign_passport  73799 non-null  object \n",
      " 18  default           73799 non-null  int64  \n",
      "dtypes: float64(1), int64(12), object(6)\n",
      "memory usage: 10.7+ MB\n"
     ]
    }
   ],
   "source": [
    "train.info()\n"
   ]
  },
  {
   "cell_type": "code",
   "execution_count": 6,
   "id": "ebe06ba2",
   "metadata": {
    "execution": {
     "iopub.execute_input": "2021-07-13T20:45:51.779927Z",
     "iopub.status.busy": "2021-07-13T20:45:51.779045Z",
     "iopub.status.idle": "2021-07-13T20:45:51.801887Z",
     "shell.execute_reply": "2021-07-13T20:45:51.802410Z",
     "shell.execute_reply.started": "2021-07-13T20:42:35.113089Z"
    },
    "papermill": {
     "duration": 0.05737,
     "end_time": "2021-07-13T20:45:51.802598",
     "exception": false,
     "start_time": "2021-07-13T20:45:51.745228",
     "status": "completed"
    },
    "tags": []
   },
   "outputs": [
    {
     "data": {
      "text/html": [
       "<div>\n",
       "<style scoped>\n",
       "    .dataframe tbody tr th:only-of-type {\n",
       "        vertical-align: middle;\n",
       "    }\n",
       "\n",
       "    .dataframe tbody tr th {\n",
       "        vertical-align: top;\n",
       "    }\n",
       "\n",
       "    .dataframe thead th {\n",
       "        text-align: right;\n",
       "    }\n",
       "</style>\n",
       "<table border=\"1\" class=\"dataframe\">\n",
       "  <thead>\n",
       "    <tr style=\"text-align: right;\">\n",
       "      <th></th>\n",
       "      <th>client_id</th>\n",
       "      <th>app_date</th>\n",
       "      <th>education</th>\n",
       "      <th>sex</th>\n",
       "      <th>age</th>\n",
       "      <th>car</th>\n",
       "      <th>car_type</th>\n",
       "      <th>decline_app_cnt</th>\n",
       "      <th>good_work</th>\n",
       "      <th>score_bki</th>\n",
       "      <th>bki_request_cnt</th>\n",
       "      <th>region_rating</th>\n",
       "      <th>home_address</th>\n",
       "      <th>work_address</th>\n",
       "      <th>income</th>\n",
       "      <th>sna</th>\n",
       "      <th>first_time</th>\n",
       "      <th>foreign_passport</th>\n",
       "      <th>default</th>\n",
       "    </tr>\n",
       "  </thead>\n",
       "  <tbody>\n",
       "    <tr>\n",
       "      <th>0</th>\n",
       "      <td>25905</td>\n",
       "      <td>01FEB2014</td>\n",
       "      <td>SCH</td>\n",
       "      <td>M</td>\n",
       "      <td>62</td>\n",
       "      <td>Y</td>\n",
       "      <td>Y</td>\n",
       "      <td>0</td>\n",
       "      <td>0</td>\n",
       "      <td>-2.008753</td>\n",
       "      <td>1</td>\n",
       "      <td>50</td>\n",
       "      <td>1</td>\n",
       "      <td>2</td>\n",
       "      <td>18000</td>\n",
       "      <td>4</td>\n",
       "      <td>1</td>\n",
       "      <td>N</td>\n",
       "      <td>0</td>\n",
       "    </tr>\n",
       "    <tr>\n",
       "      <th>1</th>\n",
       "      <td>63161</td>\n",
       "      <td>12MAR2014</td>\n",
       "      <td>SCH</td>\n",
       "      <td>F</td>\n",
       "      <td>59</td>\n",
       "      <td>N</td>\n",
       "      <td>N</td>\n",
       "      <td>0</td>\n",
       "      <td>0</td>\n",
       "      <td>-1.532276</td>\n",
       "      <td>3</td>\n",
       "      <td>50</td>\n",
       "      <td>2</td>\n",
       "      <td>3</td>\n",
       "      <td>19000</td>\n",
       "      <td>4</td>\n",
       "      <td>1</td>\n",
       "      <td>N</td>\n",
       "      <td>0</td>\n",
       "    </tr>\n",
       "    <tr>\n",
       "      <th>2</th>\n",
       "      <td>25887</td>\n",
       "      <td>01FEB2014</td>\n",
       "      <td>SCH</td>\n",
       "      <td>M</td>\n",
       "      <td>25</td>\n",
       "      <td>Y</td>\n",
       "      <td>N</td>\n",
       "      <td>2</td>\n",
       "      <td>0</td>\n",
       "      <td>-1.408142</td>\n",
       "      <td>1</td>\n",
       "      <td>80</td>\n",
       "      <td>1</td>\n",
       "      <td>2</td>\n",
       "      <td>30000</td>\n",
       "      <td>1</td>\n",
       "      <td>4</td>\n",
       "      <td>Y</td>\n",
       "      <td>0</td>\n",
       "    </tr>\n",
       "    <tr>\n",
       "      <th>3</th>\n",
       "      <td>16222</td>\n",
       "      <td>23JAN2014</td>\n",
       "      <td>SCH</td>\n",
       "      <td>F</td>\n",
       "      <td>53</td>\n",
       "      <td>N</td>\n",
       "      <td>N</td>\n",
       "      <td>0</td>\n",
       "      <td>0</td>\n",
       "      <td>-2.057471</td>\n",
       "      <td>2</td>\n",
       "      <td>50</td>\n",
       "      <td>2</td>\n",
       "      <td>3</td>\n",
       "      <td>10000</td>\n",
       "      <td>1</td>\n",
       "      <td>3</td>\n",
       "      <td>N</td>\n",
       "      <td>0</td>\n",
       "    </tr>\n",
       "    <tr>\n",
       "      <th>4</th>\n",
       "      <td>101655</td>\n",
       "      <td>18APR2014</td>\n",
       "      <td>GRD</td>\n",
       "      <td>M</td>\n",
       "      <td>48</td>\n",
       "      <td>N</td>\n",
       "      <td>N</td>\n",
       "      <td>0</td>\n",
       "      <td>1</td>\n",
       "      <td>-1.244723</td>\n",
       "      <td>1</td>\n",
       "      <td>60</td>\n",
       "      <td>2</td>\n",
       "      <td>3</td>\n",
       "      <td>30000</td>\n",
       "      <td>1</td>\n",
       "      <td>4</td>\n",
       "      <td>Y</td>\n",
       "      <td>0</td>\n",
       "    </tr>\n",
       "    <tr>\n",
       "      <th>5</th>\n",
       "      <td>41415</td>\n",
       "      <td>18FEB2014</td>\n",
       "      <td>SCH</td>\n",
       "      <td>M</td>\n",
       "      <td>27</td>\n",
       "      <td>Y</td>\n",
       "      <td>N</td>\n",
       "      <td>0</td>\n",
       "      <td>1</td>\n",
       "      <td>-2.032257</td>\n",
       "      <td>0</td>\n",
       "      <td>50</td>\n",
       "      <td>1</td>\n",
       "      <td>1</td>\n",
       "      <td>15000</td>\n",
       "      <td>2</td>\n",
       "      <td>3</td>\n",
       "      <td>N</td>\n",
       "      <td>0</td>\n",
       "    </tr>\n",
       "    <tr>\n",
       "      <th>6</th>\n",
       "      <td>28436</td>\n",
       "      <td>04FEB2014</td>\n",
       "      <td>SCH</td>\n",
       "      <td>M</td>\n",
       "      <td>39</td>\n",
       "      <td>N</td>\n",
       "      <td>N</td>\n",
       "      <td>0</td>\n",
       "      <td>0</td>\n",
       "      <td>-2.225004</td>\n",
       "      <td>0</td>\n",
       "      <td>60</td>\n",
       "      <td>1</td>\n",
       "      <td>2</td>\n",
       "      <td>28000</td>\n",
       "      <td>1</td>\n",
       "      <td>1</td>\n",
       "      <td>N</td>\n",
       "      <td>0</td>\n",
       "    </tr>\n",
       "    <tr>\n",
       "      <th>7</th>\n",
       "      <td>68769</td>\n",
       "      <td>17MAR2014</td>\n",
       "      <td>SCH</td>\n",
       "      <td>F</td>\n",
       "      <td>39</td>\n",
       "      <td>N</td>\n",
       "      <td>N</td>\n",
       "      <td>0</td>\n",
       "      <td>0</td>\n",
       "      <td>-1.522739</td>\n",
       "      <td>1</td>\n",
       "      <td>50</td>\n",
       "      <td>2</td>\n",
       "      <td>3</td>\n",
       "      <td>45000</td>\n",
       "      <td>3</td>\n",
       "      <td>3</td>\n",
       "      <td>N</td>\n",
       "      <td>0</td>\n",
       "    </tr>\n",
       "    <tr>\n",
       "      <th>8</th>\n",
       "      <td>38424</td>\n",
       "      <td>14FEB2014</td>\n",
       "      <td>SCH</td>\n",
       "      <td>F</td>\n",
       "      <td>50</td>\n",
       "      <td>Y</td>\n",
       "      <td>N</td>\n",
       "      <td>1</td>\n",
       "      <td>0</td>\n",
       "      <td>-1.676061</td>\n",
       "      <td>0</td>\n",
       "      <td>50</td>\n",
       "      <td>1</td>\n",
       "      <td>1</td>\n",
       "      <td>30000</td>\n",
       "      <td>1</td>\n",
       "      <td>4</td>\n",
       "      <td>N</td>\n",
       "      <td>0</td>\n",
       "    </tr>\n",
       "    <tr>\n",
       "      <th>9</th>\n",
       "      <td>4496</td>\n",
       "      <td>10JAN2014</td>\n",
       "      <td>UGR</td>\n",
       "      <td>F</td>\n",
       "      <td>54</td>\n",
       "      <td>N</td>\n",
       "      <td>N</td>\n",
       "      <td>0</td>\n",
       "      <td>0</td>\n",
       "      <td>-2.695176</td>\n",
       "      <td>1</td>\n",
       "      <td>50</td>\n",
       "      <td>2</td>\n",
       "      <td>3</td>\n",
       "      <td>24000</td>\n",
       "      <td>1</td>\n",
       "      <td>3</td>\n",
       "      <td>N</td>\n",
       "      <td>0</td>\n",
       "    </tr>\n",
       "  </tbody>\n",
       "</table>\n",
       "</div>"
      ],
      "text/plain": [
       "   client_id   app_date education sex  age car car_type  decline_app_cnt  \\\n",
       "0      25905  01FEB2014       SCH   M   62   Y        Y                0   \n",
       "1      63161  12MAR2014       SCH   F   59   N        N                0   \n",
       "2      25887  01FEB2014       SCH   M   25   Y        N                2   \n",
       "3      16222  23JAN2014       SCH   F   53   N        N                0   \n",
       "4     101655  18APR2014       GRD   M   48   N        N                0   \n",
       "5      41415  18FEB2014       SCH   M   27   Y        N                0   \n",
       "6      28436  04FEB2014       SCH   M   39   N        N                0   \n",
       "7      68769  17MAR2014       SCH   F   39   N        N                0   \n",
       "8      38424  14FEB2014       SCH   F   50   Y        N                1   \n",
       "9       4496  10JAN2014       UGR   F   54   N        N                0   \n",
       "\n",
       "   good_work  score_bki  bki_request_cnt  region_rating  home_address  \\\n",
       "0          0  -2.008753                1             50             1   \n",
       "1          0  -1.532276                3             50             2   \n",
       "2          0  -1.408142                1             80             1   \n",
       "3          0  -2.057471                2             50             2   \n",
       "4          1  -1.244723                1             60             2   \n",
       "5          1  -2.032257                0             50             1   \n",
       "6          0  -2.225004                0             60             1   \n",
       "7          0  -1.522739                1             50             2   \n",
       "8          0  -1.676061                0             50             1   \n",
       "9          0  -2.695176                1             50             2   \n",
       "\n",
       "   work_address  income  sna  first_time foreign_passport  default  \n",
       "0             2   18000    4           1                N        0  \n",
       "1             3   19000    4           1                N        0  \n",
       "2             2   30000    1           4                Y        0  \n",
       "3             3   10000    1           3                N        0  \n",
       "4             3   30000    1           4                Y        0  \n",
       "5             1   15000    2           3                N        0  \n",
       "6             2   28000    1           1                N        0  \n",
       "7             3   45000    3           3                N        0  \n",
       "8             1   30000    1           4                N        0  \n",
       "9             3   24000    1           3                N        0  "
      ]
     },
     "execution_count": 6,
     "metadata": {},
     "output_type": "execute_result"
    }
   ],
   "source": [
    "train.head(10)"
   ]
  },
  {
   "cell_type": "code",
   "execution_count": 7,
   "id": "86fd8b4b",
   "metadata": {
    "execution": {
     "iopub.execute_input": "2021-07-13T20:45:51.864785Z",
     "iopub.status.busy": "2021-07-13T20:45:51.863874Z",
     "iopub.status.idle": "2021-07-13T20:45:51.887500Z",
     "shell.execute_reply": "2021-07-13T20:45:51.888282Z",
     "shell.execute_reply.started": "2021-07-13T20:42:35.139855Z"
    },
    "papermill": {
     "duration": 0.056561,
     "end_time": "2021-07-13T20:45:51.888516",
     "exception": false,
     "start_time": "2021-07-13T20:45:51.831955",
     "status": "completed"
    },
    "tags": []
   },
   "outputs": [
    {
     "name": "stdout",
     "output_type": "stream",
     "text": [
      "<class 'pandas.core.frame.DataFrame'>\n",
      "RangeIndex: 36349 entries, 0 to 36348\n",
      "Data columns (total 18 columns):\n",
      " #   Column            Non-Null Count  Dtype  \n",
      "---  ------            --------------  -----  \n",
      " 0   client_id         36349 non-null  int64  \n",
      " 1   app_date          36349 non-null  object \n",
      " 2   education         36178 non-null  object \n",
      " 3   sex               36349 non-null  object \n",
      " 4   age               36349 non-null  int64  \n",
      " 5   car               36349 non-null  object \n",
      " 6   car_type          36349 non-null  object \n",
      " 7   decline_app_cnt   36349 non-null  int64  \n",
      " 8   good_work         36349 non-null  int64  \n",
      " 9   score_bki         36349 non-null  float64\n",
      " 10  bki_request_cnt   36349 non-null  int64  \n",
      " 11  region_rating     36349 non-null  int64  \n",
      " 12  home_address      36349 non-null  int64  \n",
      " 13  work_address      36349 non-null  int64  \n",
      " 14  income            36349 non-null  int64  \n",
      " 15  sna               36349 non-null  int64  \n",
      " 16  first_time        36349 non-null  int64  \n",
      " 17  foreign_passport  36349 non-null  object \n",
      "dtypes: float64(1), int64(11), object(6)\n",
      "memory usage: 5.0+ MB\n"
     ]
    }
   ],
   "source": [
    "test.info()"
   ]
  },
  {
   "cell_type": "code",
   "execution_count": 8,
   "id": "e0797ce4",
   "metadata": {
    "execution": {
     "iopub.execute_input": "2021-07-13T20:45:51.952399Z",
     "iopub.status.busy": "2021-07-13T20:45:51.951504Z",
     "iopub.status.idle": "2021-07-13T20:45:51.970661Z",
     "shell.execute_reply": "2021-07-13T20:45:51.971081Z",
     "shell.execute_reply.started": "2021-07-13T20:42:35.186628Z"
    },
    "papermill": {
     "duration": 0.052231,
     "end_time": "2021-07-13T20:45:51.971253",
     "exception": false,
     "start_time": "2021-07-13T20:45:51.919022",
     "status": "completed"
    },
    "tags": []
   },
   "outputs": [
    {
     "data": {
      "text/html": [
       "<div>\n",
       "<style scoped>\n",
       "    .dataframe tbody tr th:only-of-type {\n",
       "        vertical-align: middle;\n",
       "    }\n",
       "\n",
       "    .dataframe tbody tr th {\n",
       "        vertical-align: top;\n",
       "    }\n",
       "\n",
       "    .dataframe thead th {\n",
       "        text-align: right;\n",
       "    }\n",
       "</style>\n",
       "<table border=\"1\" class=\"dataframe\">\n",
       "  <thead>\n",
       "    <tr style=\"text-align: right;\">\n",
       "      <th></th>\n",
       "      <th>client_id</th>\n",
       "      <th>app_date</th>\n",
       "      <th>education</th>\n",
       "      <th>sex</th>\n",
       "      <th>age</th>\n",
       "      <th>car</th>\n",
       "      <th>car_type</th>\n",
       "      <th>decline_app_cnt</th>\n",
       "      <th>good_work</th>\n",
       "      <th>score_bki</th>\n",
       "      <th>bki_request_cnt</th>\n",
       "      <th>region_rating</th>\n",
       "      <th>home_address</th>\n",
       "      <th>work_address</th>\n",
       "      <th>income</th>\n",
       "      <th>sna</th>\n",
       "      <th>first_time</th>\n",
       "      <th>foreign_passport</th>\n",
       "    </tr>\n",
       "  </thead>\n",
       "  <tbody>\n",
       "    <tr>\n",
       "      <th>0</th>\n",
       "      <td>74835</td>\n",
       "      <td>22MAR2014</td>\n",
       "      <td>GRD</td>\n",
       "      <td>M</td>\n",
       "      <td>29</td>\n",
       "      <td>Y</td>\n",
       "      <td>Y</td>\n",
       "      <td>0</td>\n",
       "      <td>0</td>\n",
       "      <td>-2.271884</td>\n",
       "      <td>3</td>\n",
       "      <td>50</td>\n",
       "      <td>1</td>\n",
       "      <td>2</td>\n",
       "      <td>50000</td>\n",
       "      <td>1</td>\n",
       "      <td>4</td>\n",
       "      <td>N</td>\n",
       "    </tr>\n",
       "    <tr>\n",
       "      <th>1</th>\n",
       "      <td>17527</td>\n",
       "      <td>24JAN2014</td>\n",
       "      <td>SCH</td>\n",
       "      <td>F</td>\n",
       "      <td>39</td>\n",
       "      <td>N</td>\n",
       "      <td>N</td>\n",
       "      <td>5</td>\n",
       "      <td>0</td>\n",
       "      <td>-1.504999</td>\n",
       "      <td>2</td>\n",
       "      <td>50</td>\n",
       "      <td>1</td>\n",
       "      <td>2</td>\n",
       "      <td>5000</td>\n",
       "      <td>4</td>\n",
       "      <td>3</td>\n",
       "      <td>N</td>\n",
       "    </tr>\n",
       "    <tr>\n",
       "      <th>2</th>\n",
       "      <td>75683</td>\n",
       "      <td>23MAR2014</td>\n",
       "      <td>UGR</td>\n",
       "      <td>M</td>\n",
       "      <td>50</td>\n",
       "      <td>Y</td>\n",
       "      <td>Y</td>\n",
       "      <td>0</td>\n",
       "      <td>0</td>\n",
       "      <td>-1.691339</td>\n",
       "      <td>1</td>\n",
       "      <td>50</td>\n",
       "      <td>1</td>\n",
       "      <td>2</td>\n",
       "      <td>30000</td>\n",
       "      <td>1</td>\n",
       "      <td>3</td>\n",
       "      <td>Y</td>\n",
       "    </tr>\n",
       "    <tr>\n",
       "      <th>3</th>\n",
       "      <td>26883</td>\n",
       "      <td>03FEB2014</td>\n",
       "      <td>SCH</td>\n",
       "      <td>M</td>\n",
       "      <td>56</td>\n",
       "      <td>N</td>\n",
       "      <td>N</td>\n",
       "      <td>0</td>\n",
       "      <td>0</td>\n",
       "      <td>-2.374182</td>\n",
       "      <td>1</td>\n",
       "      <td>40</td>\n",
       "      <td>1</td>\n",
       "      <td>2</td>\n",
       "      <td>17000</td>\n",
       "      <td>1</td>\n",
       "      <td>3</td>\n",
       "      <td>N</td>\n",
       "    </tr>\n",
       "    <tr>\n",
       "      <th>4</th>\n",
       "      <td>28862</td>\n",
       "      <td>04FEB2014</td>\n",
       "      <td>GRD</td>\n",
       "      <td>F</td>\n",
       "      <td>38</td>\n",
       "      <td>N</td>\n",
       "      <td>N</td>\n",
       "      <td>0</td>\n",
       "      <td>0</td>\n",
       "      <td>-2.487502</td>\n",
       "      <td>0</td>\n",
       "      <td>80</td>\n",
       "      <td>2</td>\n",
       "      <td>3</td>\n",
       "      <td>120000</td>\n",
       "      <td>1</td>\n",
       "      <td>3</td>\n",
       "      <td>N</td>\n",
       "    </tr>\n",
       "    <tr>\n",
       "      <th>5</th>\n",
       "      <td>99881</td>\n",
       "      <td>17APR2014</td>\n",
       "      <td>SCH</td>\n",
       "      <td>F</td>\n",
       "      <td>55</td>\n",
       "      <td>N</td>\n",
       "      <td>N</td>\n",
       "      <td>0</td>\n",
       "      <td>0</td>\n",
       "      <td>-1.740224</td>\n",
       "      <td>7</td>\n",
       "      <td>50</td>\n",
       "      <td>3</td>\n",
       "      <td>3</td>\n",
       "      <td>30000</td>\n",
       "      <td>2</td>\n",
       "      <td>1</td>\n",
       "      <td>N</td>\n",
       "    </tr>\n",
       "    <tr>\n",
       "      <th>6</th>\n",
       "      <td>26630</td>\n",
       "      <td>02FEB2014</td>\n",
       "      <td>SCH</td>\n",
       "      <td>F</td>\n",
       "      <td>30</td>\n",
       "      <td>N</td>\n",
       "      <td>N</td>\n",
       "      <td>3</td>\n",
       "      <td>0</td>\n",
       "      <td>-1.387847</td>\n",
       "      <td>5</td>\n",
       "      <td>60</td>\n",
       "      <td>1</td>\n",
       "      <td>2</td>\n",
       "      <td>11000</td>\n",
       "      <td>4</td>\n",
       "      <td>3</td>\n",
       "      <td>N</td>\n",
       "    </tr>\n",
       "    <tr>\n",
       "      <th>7</th>\n",
       "      <td>79934</td>\n",
       "      <td>28MAR2014</td>\n",
       "      <td>GRD</td>\n",
       "      <td>M</td>\n",
       "      <td>41</td>\n",
       "      <td>Y</td>\n",
       "      <td>Y</td>\n",
       "      <td>0</td>\n",
       "      <td>0</td>\n",
       "      <td>-3.066047</td>\n",
       "      <td>3</td>\n",
       "      <td>60</td>\n",
       "      <td>1</td>\n",
       "      <td>3</td>\n",
       "      <td>80000</td>\n",
       "      <td>4</td>\n",
       "      <td>1</td>\n",
       "      <td>N</td>\n",
       "    </tr>\n",
       "    <tr>\n",
       "      <th>8</th>\n",
       "      <td>16605</td>\n",
       "      <td>23JAN2014</td>\n",
       "      <td>GRD</td>\n",
       "      <td>M</td>\n",
       "      <td>34</td>\n",
       "      <td>N</td>\n",
       "      <td>N</td>\n",
       "      <td>0</td>\n",
       "      <td>0</td>\n",
       "      <td>-3.117086</td>\n",
       "      <td>0</td>\n",
       "      <td>80</td>\n",
       "      <td>2</td>\n",
       "      <td>3</td>\n",
       "      <td>5000</td>\n",
       "      <td>1</td>\n",
       "      <td>2</td>\n",
       "      <td>N</td>\n",
       "    </tr>\n",
       "    <tr>\n",
       "      <th>9</th>\n",
       "      <td>105449</td>\n",
       "      <td>24APR2014</td>\n",
       "      <td>UGR</td>\n",
       "      <td>M</td>\n",
       "      <td>28</td>\n",
       "      <td>Y</td>\n",
       "      <td>Y</td>\n",
       "      <td>0</td>\n",
       "      <td>0</td>\n",
       "      <td>-2.185172</td>\n",
       "      <td>0</td>\n",
       "      <td>80</td>\n",
       "      <td>2</td>\n",
       "      <td>3</td>\n",
       "      <td>80000</td>\n",
       "      <td>1</td>\n",
       "      <td>3</td>\n",
       "      <td>Y</td>\n",
       "    </tr>\n",
       "  </tbody>\n",
       "</table>\n",
       "</div>"
      ],
      "text/plain": [
       "   client_id   app_date education sex  age car car_type  decline_app_cnt  \\\n",
       "0      74835  22MAR2014       GRD   M   29   Y        Y                0   \n",
       "1      17527  24JAN2014       SCH   F   39   N        N                5   \n",
       "2      75683  23MAR2014       UGR   M   50   Y        Y                0   \n",
       "3      26883  03FEB2014       SCH   M   56   N        N                0   \n",
       "4      28862  04FEB2014       GRD   F   38   N        N                0   \n",
       "5      99881  17APR2014       SCH   F   55   N        N                0   \n",
       "6      26630  02FEB2014       SCH   F   30   N        N                3   \n",
       "7      79934  28MAR2014       GRD   M   41   Y        Y                0   \n",
       "8      16605  23JAN2014       GRD   M   34   N        N                0   \n",
       "9     105449  24APR2014       UGR   M   28   Y        Y                0   \n",
       "\n",
       "   good_work  score_bki  bki_request_cnt  region_rating  home_address  \\\n",
       "0          0  -2.271884                3             50             1   \n",
       "1          0  -1.504999                2             50             1   \n",
       "2          0  -1.691339                1             50             1   \n",
       "3          0  -2.374182                1             40             1   \n",
       "4          0  -2.487502                0             80             2   \n",
       "5          0  -1.740224                7             50             3   \n",
       "6          0  -1.387847                5             60             1   \n",
       "7          0  -3.066047                3             60             1   \n",
       "8          0  -3.117086                0             80             2   \n",
       "9          0  -2.185172                0             80             2   \n",
       "\n",
       "   work_address  income  sna  first_time foreign_passport  \n",
       "0             2   50000    1           4                N  \n",
       "1             2    5000    4           3                N  \n",
       "2             2   30000    1           3                Y  \n",
       "3             2   17000    1           3                N  \n",
       "4             3  120000    1           3                N  \n",
       "5             3   30000    2           1                N  \n",
       "6             2   11000    4           3                N  \n",
       "7             3   80000    4           1                N  \n",
       "8             3    5000    1           2                N  \n",
       "9             3   80000    1           3                Y  "
      ]
     },
     "execution_count": 8,
     "metadata": {},
     "output_type": "execute_result"
    }
   ],
   "source": [
    "test.head(10)"
   ]
  },
  {
   "cell_type": "code",
   "execution_count": 9,
   "id": "b08de1aa",
   "metadata": {
    "execution": {
     "iopub.execute_input": "2021-07-13T20:45:52.046837Z",
     "iopub.status.busy": "2021-07-13T20:45:52.045943Z",
     "iopub.status.idle": "2021-07-13T20:45:52.060022Z",
     "shell.execute_reply": "2021-07-13T20:45:52.060569Z",
     "shell.execute_reply.started": "2021-07-13T20:42:35.213449Z"
    },
    "papermill": {
     "duration": 0.05924,
     "end_time": "2021-07-13T20:45:52.060748",
     "exception": false,
     "start_time": "2021-07-13T20:45:52.001508",
     "status": "completed"
    },
    "tags": []
   },
   "outputs": [
    {
     "name": "stdout",
     "output_type": "stream",
     "text": [
      "<class 'pandas.core.frame.DataFrame'>\n",
      "RangeIndex: 24354 entries, 0 to 24353\n",
      "Data columns (total 2 columns):\n",
      " #   Column     Non-Null Count  Dtype  \n",
      "---  ------     --------------  -----  \n",
      " 0   client_id  24354 non-null  int64  \n",
      " 1   default    24354 non-null  float64\n",
      "dtypes: float64(1), int64(1)\n",
      "memory usage: 380.7 KB\n"
     ]
    }
   ],
   "source": [
    "sample.info()"
   ]
  },
  {
   "cell_type": "code",
   "execution_count": 10,
   "id": "cbc516ae",
   "metadata": {
    "execution": {
     "iopub.execute_input": "2021-07-13T20:45:52.131653Z",
     "iopub.status.busy": "2021-07-13T20:45:52.130706Z",
     "iopub.status.idle": "2021-07-13T20:45:52.140266Z",
     "shell.execute_reply": "2021-07-13T20:45:52.140809Z",
     "shell.execute_reply.started": "2021-07-13T20:42:35.235740Z"
    },
    "papermill": {
     "duration": 0.046413,
     "end_time": "2021-07-13T20:45:52.140978",
     "exception": false,
     "start_time": "2021-07-13T20:45:52.094565",
     "status": "completed"
    },
    "tags": []
   },
   "outputs": [
    {
     "data": {
      "text/html": [
       "<div>\n",
       "<style scoped>\n",
       "    .dataframe tbody tr th:only-of-type {\n",
       "        vertical-align: middle;\n",
       "    }\n",
       "\n",
       "    .dataframe tbody tr th {\n",
       "        vertical-align: top;\n",
       "    }\n",
       "\n",
       "    .dataframe thead th {\n",
       "        text-align: right;\n",
       "    }\n",
       "</style>\n",
       "<table border=\"1\" class=\"dataframe\">\n",
       "  <thead>\n",
       "    <tr style=\"text-align: right;\">\n",
       "      <th></th>\n",
       "      <th>client_id</th>\n",
       "      <th>default</th>\n",
       "    </tr>\n",
       "  </thead>\n",
       "  <tbody>\n",
       "    <tr>\n",
       "      <th>0</th>\n",
       "      <td>66799</td>\n",
       "      <td>0.441004</td>\n",
       "    </tr>\n",
       "    <tr>\n",
       "      <th>1</th>\n",
       "      <td>25379</td>\n",
       "      <td>0.138092</td>\n",
       "    </tr>\n",
       "    <tr>\n",
       "      <th>2</th>\n",
       "      <td>28825</td>\n",
       "      <td>0.373370</td>\n",
       "    </tr>\n",
       "    <tr>\n",
       "      <th>3</th>\n",
       "      <td>37530</td>\n",
       "      <td>0.476501</td>\n",
       "    </tr>\n",
       "    <tr>\n",
       "      <th>4</th>\n",
       "      <td>4264</td>\n",
       "      <td>0.304640</td>\n",
       "    </tr>\n",
       "    <tr>\n",
       "      <th>5</th>\n",
       "      <td>175</td>\n",
       "      <td>0.311599</td>\n",
       "    </tr>\n",
       "    <tr>\n",
       "      <th>6</th>\n",
       "      <td>57558</td>\n",
       "      <td>0.584807</td>\n",
       "    </tr>\n",
       "    <tr>\n",
       "      <th>7</th>\n",
       "      <td>88407</td>\n",
       "      <td>0.815792</td>\n",
       "    </tr>\n",
       "    <tr>\n",
       "      <th>8</th>\n",
       "      <td>79183</td>\n",
       "      <td>0.325037</td>\n",
       "    </tr>\n",
       "    <tr>\n",
       "      <th>9</th>\n",
       "      <td>69300</td>\n",
       "      <td>0.094011</td>\n",
       "    </tr>\n",
       "  </tbody>\n",
       "</table>\n",
       "</div>"
      ],
      "text/plain": [
       "   client_id   default\n",
       "0      66799  0.441004\n",
       "1      25379  0.138092\n",
       "2      28825  0.373370\n",
       "3      37530  0.476501\n",
       "4       4264  0.304640\n",
       "5        175  0.311599\n",
       "6      57558  0.584807\n",
       "7      88407  0.815792\n",
       "8      79183  0.325037\n",
       "9      69300  0.094011"
      ]
     },
     "execution_count": 10,
     "metadata": {},
     "output_type": "execute_result"
    }
   ],
   "source": [
    "sample.head(10)"
   ]
  },
  {
   "cell_type": "markdown",
   "id": "b4dcfdc5",
   "metadata": {
    "papermill": {
     "duration": 0.031203,
     "end_time": "2021-07-13T20:45:52.204065",
     "exception": false,
     "start_time": "2021-07-13T20:45:52.172862",
     "status": "completed"
    },
    "tags": []
   },
   "source": [
    "Объединим датасеты, обозначив части и включив несуществующую информацию по дефолтам для тестовой выборки"
   ]
  },
  {
   "cell_type": "code",
   "execution_count": 11,
   "id": "c8ff0266",
   "metadata": {
    "execution": {
     "iopub.execute_input": "2021-07-13T20:45:52.269791Z",
     "iopub.status.busy": "2021-07-13T20:45:52.268912Z",
     "iopub.status.idle": "2021-07-13T20:45:52.326444Z",
     "shell.execute_reply": "2021-07-13T20:45:52.326912Z",
     "shell.execute_reply.started": "2021-07-13T20:42:35.248949Z"
    },
    "papermill": {
     "duration": 0.091308,
     "end_time": "2021-07-13T20:45:52.327087",
     "exception": false,
     "start_time": "2021-07-13T20:45:52.235779",
     "status": "completed"
    },
    "tags": []
   },
   "outputs": [],
   "source": [
    "train['IsTrain'] = 1\n",
    "test['IsTrain'] = 0\n",
    "test['default'] = 404\n",
    "data = train.append(test, sort = False).reset_index(drop = True)"
   ]
  },
  {
   "cell_type": "code",
   "execution_count": 12,
   "id": "678f7d90",
   "metadata": {
    "execution": {
     "iopub.execute_input": "2021-07-13T20:45:52.390942Z",
     "iopub.status.busy": "2021-07-13T20:45:52.390369Z",
     "iopub.status.idle": "2021-07-13T20:45:52.408912Z",
     "shell.execute_reply": "2021-07-13T20:45:52.409377Z",
     "shell.execute_reply.started": "2021-07-13T20:42:35.303171Z"
    },
    "papermill": {
     "duration": 0.051877,
     "end_time": "2021-07-13T20:45:52.409559",
     "exception": false,
     "start_time": "2021-07-13T20:45:52.357682",
     "status": "completed"
    },
    "tags": []
   },
   "outputs": [
    {
     "data": {
      "text/html": [
       "<div>\n",
       "<style scoped>\n",
       "    .dataframe tbody tr th:only-of-type {\n",
       "        vertical-align: middle;\n",
       "    }\n",
       "\n",
       "    .dataframe tbody tr th {\n",
       "        vertical-align: top;\n",
       "    }\n",
       "\n",
       "    .dataframe thead th {\n",
       "        text-align: right;\n",
       "    }\n",
       "</style>\n",
       "<table border=\"1\" class=\"dataframe\">\n",
       "  <thead>\n",
       "    <tr style=\"text-align: right;\">\n",
       "      <th></th>\n",
       "      <th>client_id</th>\n",
       "      <th>app_date</th>\n",
       "      <th>education</th>\n",
       "      <th>sex</th>\n",
       "      <th>age</th>\n",
       "      <th>car</th>\n",
       "      <th>car_type</th>\n",
       "      <th>decline_app_cnt</th>\n",
       "      <th>good_work</th>\n",
       "      <th>score_bki</th>\n",
       "      <th>bki_request_cnt</th>\n",
       "      <th>region_rating</th>\n",
       "      <th>home_address</th>\n",
       "      <th>work_address</th>\n",
       "      <th>income</th>\n",
       "      <th>sna</th>\n",
       "      <th>first_time</th>\n",
       "      <th>foreign_passport</th>\n",
       "      <th>default</th>\n",
       "      <th>IsTrain</th>\n",
       "    </tr>\n",
       "  </thead>\n",
       "  <tbody>\n",
       "    <tr>\n",
       "      <th>0</th>\n",
       "      <td>25905</td>\n",
       "      <td>01FEB2014</td>\n",
       "      <td>SCH</td>\n",
       "      <td>M</td>\n",
       "      <td>62</td>\n",
       "      <td>Y</td>\n",
       "      <td>Y</td>\n",
       "      <td>0</td>\n",
       "      <td>0</td>\n",
       "      <td>-2.008753</td>\n",
       "      <td>1</td>\n",
       "      <td>50</td>\n",
       "      <td>1</td>\n",
       "      <td>2</td>\n",
       "      <td>18000</td>\n",
       "      <td>4</td>\n",
       "      <td>1</td>\n",
       "      <td>N</td>\n",
       "      <td>0</td>\n",
       "      <td>1</td>\n",
       "    </tr>\n",
       "    <tr>\n",
       "      <th>1</th>\n",
       "      <td>63161</td>\n",
       "      <td>12MAR2014</td>\n",
       "      <td>SCH</td>\n",
       "      <td>F</td>\n",
       "      <td>59</td>\n",
       "      <td>N</td>\n",
       "      <td>N</td>\n",
       "      <td>0</td>\n",
       "      <td>0</td>\n",
       "      <td>-1.532276</td>\n",
       "      <td>3</td>\n",
       "      <td>50</td>\n",
       "      <td>2</td>\n",
       "      <td>3</td>\n",
       "      <td>19000</td>\n",
       "      <td>4</td>\n",
       "      <td>1</td>\n",
       "      <td>N</td>\n",
       "      <td>0</td>\n",
       "      <td>1</td>\n",
       "    </tr>\n",
       "    <tr>\n",
       "      <th>2</th>\n",
       "      <td>25887</td>\n",
       "      <td>01FEB2014</td>\n",
       "      <td>SCH</td>\n",
       "      <td>M</td>\n",
       "      <td>25</td>\n",
       "      <td>Y</td>\n",
       "      <td>N</td>\n",
       "      <td>2</td>\n",
       "      <td>0</td>\n",
       "      <td>-1.408142</td>\n",
       "      <td>1</td>\n",
       "      <td>80</td>\n",
       "      <td>1</td>\n",
       "      <td>2</td>\n",
       "      <td>30000</td>\n",
       "      <td>1</td>\n",
       "      <td>4</td>\n",
       "      <td>Y</td>\n",
       "      <td>0</td>\n",
       "      <td>1</td>\n",
       "    </tr>\n",
       "    <tr>\n",
       "      <th>3</th>\n",
       "      <td>16222</td>\n",
       "      <td>23JAN2014</td>\n",
       "      <td>SCH</td>\n",
       "      <td>F</td>\n",
       "      <td>53</td>\n",
       "      <td>N</td>\n",
       "      <td>N</td>\n",
       "      <td>0</td>\n",
       "      <td>0</td>\n",
       "      <td>-2.057471</td>\n",
       "      <td>2</td>\n",
       "      <td>50</td>\n",
       "      <td>2</td>\n",
       "      <td>3</td>\n",
       "      <td>10000</td>\n",
       "      <td>1</td>\n",
       "      <td>3</td>\n",
       "      <td>N</td>\n",
       "      <td>0</td>\n",
       "      <td>1</td>\n",
       "    </tr>\n",
       "    <tr>\n",
       "      <th>4</th>\n",
       "      <td>101655</td>\n",
       "      <td>18APR2014</td>\n",
       "      <td>GRD</td>\n",
       "      <td>M</td>\n",
       "      <td>48</td>\n",
       "      <td>N</td>\n",
       "      <td>N</td>\n",
       "      <td>0</td>\n",
       "      <td>1</td>\n",
       "      <td>-1.244723</td>\n",
       "      <td>1</td>\n",
       "      <td>60</td>\n",
       "      <td>2</td>\n",
       "      <td>3</td>\n",
       "      <td>30000</td>\n",
       "      <td>1</td>\n",
       "      <td>4</td>\n",
       "      <td>Y</td>\n",
       "      <td>0</td>\n",
       "      <td>1</td>\n",
       "    </tr>\n",
       "    <tr>\n",
       "      <th>5</th>\n",
       "      <td>41415</td>\n",
       "      <td>18FEB2014</td>\n",
       "      <td>SCH</td>\n",
       "      <td>M</td>\n",
       "      <td>27</td>\n",
       "      <td>Y</td>\n",
       "      <td>N</td>\n",
       "      <td>0</td>\n",
       "      <td>1</td>\n",
       "      <td>-2.032257</td>\n",
       "      <td>0</td>\n",
       "      <td>50</td>\n",
       "      <td>1</td>\n",
       "      <td>1</td>\n",
       "      <td>15000</td>\n",
       "      <td>2</td>\n",
       "      <td>3</td>\n",
       "      <td>N</td>\n",
       "      <td>0</td>\n",
       "      <td>1</td>\n",
       "    </tr>\n",
       "    <tr>\n",
       "      <th>6</th>\n",
       "      <td>28436</td>\n",
       "      <td>04FEB2014</td>\n",
       "      <td>SCH</td>\n",
       "      <td>M</td>\n",
       "      <td>39</td>\n",
       "      <td>N</td>\n",
       "      <td>N</td>\n",
       "      <td>0</td>\n",
       "      <td>0</td>\n",
       "      <td>-2.225004</td>\n",
       "      <td>0</td>\n",
       "      <td>60</td>\n",
       "      <td>1</td>\n",
       "      <td>2</td>\n",
       "      <td>28000</td>\n",
       "      <td>1</td>\n",
       "      <td>1</td>\n",
       "      <td>N</td>\n",
       "      <td>0</td>\n",
       "      <td>1</td>\n",
       "    </tr>\n",
       "    <tr>\n",
       "      <th>7</th>\n",
       "      <td>68769</td>\n",
       "      <td>17MAR2014</td>\n",
       "      <td>SCH</td>\n",
       "      <td>F</td>\n",
       "      <td>39</td>\n",
       "      <td>N</td>\n",
       "      <td>N</td>\n",
       "      <td>0</td>\n",
       "      <td>0</td>\n",
       "      <td>-1.522739</td>\n",
       "      <td>1</td>\n",
       "      <td>50</td>\n",
       "      <td>2</td>\n",
       "      <td>3</td>\n",
       "      <td>45000</td>\n",
       "      <td>3</td>\n",
       "      <td>3</td>\n",
       "      <td>N</td>\n",
       "      <td>0</td>\n",
       "      <td>1</td>\n",
       "    </tr>\n",
       "    <tr>\n",
       "      <th>8</th>\n",
       "      <td>38424</td>\n",
       "      <td>14FEB2014</td>\n",
       "      <td>SCH</td>\n",
       "      <td>F</td>\n",
       "      <td>50</td>\n",
       "      <td>Y</td>\n",
       "      <td>N</td>\n",
       "      <td>1</td>\n",
       "      <td>0</td>\n",
       "      <td>-1.676061</td>\n",
       "      <td>0</td>\n",
       "      <td>50</td>\n",
       "      <td>1</td>\n",
       "      <td>1</td>\n",
       "      <td>30000</td>\n",
       "      <td>1</td>\n",
       "      <td>4</td>\n",
       "      <td>N</td>\n",
       "      <td>0</td>\n",
       "      <td>1</td>\n",
       "    </tr>\n",
       "    <tr>\n",
       "      <th>9</th>\n",
       "      <td>4496</td>\n",
       "      <td>10JAN2014</td>\n",
       "      <td>UGR</td>\n",
       "      <td>F</td>\n",
       "      <td>54</td>\n",
       "      <td>N</td>\n",
       "      <td>N</td>\n",
       "      <td>0</td>\n",
       "      <td>0</td>\n",
       "      <td>-2.695176</td>\n",
       "      <td>1</td>\n",
       "      <td>50</td>\n",
       "      <td>2</td>\n",
       "      <td>3</td>\n",
       "      <td>24000</td>\n",
       "      <td>1</td>\n",
       "      <td>3</td>\n",
       "      <td>N</td>\n",
       "      <td>0</td>\n",
       "      <td>1</td>\n",
       "    </tr>\n",
       "  </tbody>\n",
       "</table>\n",
       "</div>"
      ],
      "text/plain": [
       "   client_id   app_date education sex  age car car_type  decline_app_cnt  \\\n",
       "0      25905  01FEB2014       SCH   M   62   Y        Y                0   \n",
       "1      63161  12MAR2014       SCH   F   59   N        N                0   \n",
       "2      25887  01FEB2014       SCH   M   25   Y        N                2   \n",
       "3      16222  23JAN2014       SCH   F   53   N        N                0   \n",
       "4     101655  18APR2014       GRD   M   48   N        N                0   \n",
       "5      41415  18FEB2014       SCH   M   27   Y        N                0   \n",
       "6      28436  04FEB2014       SCH   M   39   N        N                0   \n",
       "7      68769  17MAR2014       SCH   F   39   N        N                0   \n",
       "8      38424  14FEB2014       SCH   F   50   Y        N                1   \n",
       "9       4496  10JAN2014       UGR   F   54   N        N                0   \n",
       "\n",
       "   good_work  score_bki  bki_request_cnt  region_rating  home_address  \\\n",
       "0          0  -2.008753                1             50             1   \n",
       "1          0  -1.532276                3             50             2   \n",
       "2          0  -1.408142                1             80             1   \n",
       "3          0  -2.057471                2             50             2   \n",
       "4          1  -1.244723                1             60             2   \n",
       "5          1  -2.032257                0             50             1   \n",
       "6          0  -2.225004                0             60             1   \n",
       "7          0  -1.522739                1             50             2   \n",
       "8          0  -1.676061                0             50             1   \n",
       "9          0  -2.695176                1             50             2   \n",
       "\n",
       "   work_address  income  sna  first_time foreign_passport  default  IsTrain  \n",
       "0             2   18000    4           1                N        0        1  \n",
       "1             3   19000    4           1                N        0        1  \n",
       "2             2   30000    1           4                Y        0        1  \n",
       "3             3   10000    1           3                N        0        1  \n",
       "4             3   30000    1           4                Y        0        1  \n",
       "5             1   15000    2           3                N        0        1  \n",
       "6             2   28000    1           1                N        0        1  \n",
       "7             3   45000    3           3                N        0        1  \n",
       "8             1   30000    1           4                N        0        1  \n",
       "9             3   24000    1           3                N        0        1  "
      ]
     },
     "execution_count": 12,
     "metadata": {},
     "output_type": "execute_result"
    }
   ],
   "source": [
    "data.head(10)\n"
   ]
  },
  {
   "cell_type": "code",
   "execution_count": 13,
   "id": "b6c36b4f",
   "metadata": {
    "execution": {
     "iopub.execute_input": "2021-07-13T20:45:52.475423Z",
     "iopub.status.busy": "2021-07-13T20:45:52.474879Z",
     "iopub.status.idle": "2021-07-13T20:45:52.518186Z",
     "shell.execute_reply": "2021-07-13T20:45:52.517696Z",
     "shell.execute_reply.started": "2021-07-13T20:42:35.334819Z"
    },
    "papermill": {
     "duration": 0.076926,
     "end_time": "2021-07-13T20:45:52.518329",
     "exception": false,
     "start_time": "2021-07-13T20:45:52.441403",
     "status": "completed"
    },
    "tags": []
   },
   "outputs": [
    {
     "name": "stdout",
     "output_type": "stream",
     "text": [
      "<class 'pandas.core.frame.DataFrame'>\n",
      "RangeIndex: 110148 entries, 0 to 110147\n",
      "Data columns (total 20 columns):\n",
      " #   Column            Non-Null Count   Dtype  \n",
      "---  ------            --------------   -----  \n",
      " 0   client_id         110148 non-null  int64  \n",
      " 1   app_date          110148 non-null  object \n",
      " 2   education         109670 non-null  object \n",
      " 3   sex               110148 non-null  object \n",
      " 4   age               110148 non-null  int64  \n",
      " 5   car               110148 non-null  object \n",
      " 6   car_type          110148 non-null  object \n",
      " 7   decline_app_cnt   110148 non-null  int64  \n",
      " 8   good_work         110148 non-null  int64  \n",
      " 9   score_bki         110148 non-null  float64\n",
      " 10  bki_request_cnt   110148 non-null  int64  \n",
      " 11  region_rating     110148 non-null  int64  \n",
      " 12  home_address      110148 non-null  int64  \n",
      " 13  work_address      110148 non-null  int64  \n",
      " 14  income            110148 non-null  int64  \n",
      " 15  sna               110148 non-null  int64  \n",
      " 16  first_time        110148 non-null  int64  \n",
      " 17  foreign_passport  110148 non-null  object \n",
      " 18  default           110148 non-null  int64  \n",
      " 19  IsTrain           110148 non-null  int64  \n",
      "dtypes: float64(1), int64(13), object(6)\n",
      "memory usage: 16.8+ MB\n"
     ]
    }
   ],
   "source": [
    "data.info()"
   ]
  },
  {
   "cell_type": "code",
   "execution_count": 14,
   "id": "3c7c82e9",
   "metadata": {
    "execution": {
     "iopub.execute_input": "2021-07-13T20:45:52.599455Z",
     "iopub.status.busy": "2021-07-13T20:45:52.598873Z",
     "iopub.status.idle": "2021-07-13T20:45:52.620575Z",
     "shell.execute_reply": "2021-07-13T20:45:52.620990Z",
     "shell.execute_reply.started": "2021-07-13T20:42:35.428977Z"
    },
    "papermill": {
     "duration": 0.071156,
     "end_time": "2021-07-13T20:45:52.621159",
     "exception": false,
     "start_time": "2021-07-13T20:45:52.550003",
     "status": "completed"
    },
    "tags": []
   },
   "outputs": [
    {
     "data": {
      "text/plain": [
       "client_id             0\n",
       "app_date              0\n",
       "education           478\n",
       "sex                   0\n",
       "age                   0\n",
       "car                   0\n",
       "car_type              0\n",
       "decline_app_cnt       0\n",
       "good_work             0\n",
       "score_bki             0\n",
       "bki_request_cnt       0\n",
       "region_rating         0\n",
       "home_address          0\n",
       "work_address          0\n",
       "income                0\n",
       "sna                   0\n",
       "first_time            0\n",
       "foreign_passport      0\n",
       "default               0\n",
       "IsTrain               0\n",
       "dtype: int64"
      ]
     },
     "execution_count": 14,
     "metadata": {},
     "output_type": "execute_result"
    }
   ],
   "source": [
    "data.isna().sum()"
   ]
  },
  {
   "cell_type": "markdown",
   "id": "578821b6",
   "metadata": {
    "papermill": {
     "duration": 0.032073,
     "end_time": "2021-07-13T20:45:52.685389",
     "exception": false,
     "start_time": "2021-07-13T20:45:52.653316",
     "status": "completed"
    },
    "tags": []
   },
   "source": [
    "Хм, education имеет пропуски, посмотрим..."
   ]
  },
  {
   "cell_type": "code",
   "execution_count": 15,
   "id": "cfc2010e",
   "metadata": {
    "execution": {
     "iopub.execute_input": "2021-07-13T20:45:52.753461Z",
     "iopub.status.busy": "2021-07-13T20:45:52.752915Z",
     "iopub.status.idle": "2021-07-13T20:45:52.971667Z",
     "shell.execute_reply": "2021-07-13T20:45:52.972110Z",
     "shell.execute_reply.started": "2021-07-13T20:42:35.512575Z"
    },
    "papermill": {
     "duration": 0.255024,
     "end_time": "2021-07-13T20:45:52.972286",
     "exception": false,
     "start_time": "2021-07-13T20:45:52.717262",
     "status": "completed"
    },
    "tags": []
   },
   "outputs": [
    {
     "name": "stderr",
     "output_type": "stream",
     "text": [
      "/opt/conda/lib/python3.7/site-packages/seaborn/_decorators.py:43: FutureWarning: Pass the following variable as a keyword arg: x. From version 0.12, the only valid positional argument will be `data`, and passing other arguments without an explicit keyword will result in an error or misinterpretation.\n",
      "  FutureWarning\n"
     ]
    },
    {
     "data": {
      "image/png": "[encoded data removed]",
      "text/plain": [
       "<Figure size 432x288 with 1 Axes>"
      ]
     },
     "metadata": {
      "needs_background": "light"
     },
     "output_type": "display_data"
    }
   ],
   "source": [
    "plot = sns.countplot(data['education'])"
   ]
  },
  {
   "cell_type": "markdown",
   "id": "7b772252",
   "metadata": {
    "papermill": {
     "duration": 0.032457,
     "end_time": "2021-07-13T20:45:53.038804",
     "exception": false,
     "start_time": "2021-07-13T20:45:53.006347",
     "status": "completed"
    },
    "tags": []
   },
   "source": [
    "Предлагаю пропуски просто заполнить значением SCH"
   ]
  },
  {
   "cell_type": "code",
   "execution_count": 16,
   "id": "e3afb506",
   "metadata": {
    "execution": {
     "iopub.execute_input": "2021-07-13T20:45:53.127851Z",
     "iopub.status.busy": "2021-07-13T20:45:53.126853Z",
     "iopub.status.idle": "2021-07-13T20:45:53.227232Z",
     "shell.execute_reply": "2021-07-13T20:45:53.227687Z",
     "shell.execute_reply.started": "2021-07-13T20:42:35.837631Z"
    },
    "papermill": {
     "duration": 0.1519,
     "end_time": "2021-07-13T20:45:53.227855",
     "exception": false,
     "start_time": "2021-07-13T20:45:53.075955",
     "status": "completed"
    },
    "tags": []
   },
   "outputs": [
    {
     "data": {
      "text/plain": [
       "client_id           0\n",
       "app_date            0\n",
       "education           0\n",
       "sex                 0\n",
       "age                 0\n",
       "car                 0\n",
       "car_type            0\n",
       "decline_app_cnt     0\n",
       "good_work           0\n",
       "score_bki           0\n",
       "bki_request_cnt     0\n",
       "region_rating       0\n",
       "home_address        0\n",
       "work_address        0\n",
       "income              0\n",
       "sna                 0\n",
       "first_time          0\n",
       "foreign_passport    0\n",
       "default             0\n",
       "IsTrain             0\n",
       "dtype: int64"
      ]
     },
     "execution_count": 16,
     "metadata": {},
     "output_type": "execute_result"
    }
   ],
   "source": [
    "data = data.fillna('SCH')\n",
    "data.isna().sum()"
   ]
  },
  {
   "cell_type": "markdown",
   "id": "fc673e57",
   "metadata": {
    "papermill": {
     "duration": 0.032368,
     "end_time": "2021-07-13T20:45:53.293390",
     "exception": false,
     "start_time": "2021-07-13T20:45:53.261022",
     "status": "completed"
    },
    "tags": []
   },
   "source": [
    "Теперь все чисто, можно работать"
   ]
  },
  {
   "cell_type": "markdown",
   "id": "d1d2d9d9",
   "metadata": {
    "papermill": {
     "duration": 0.032309,
     "end_time": "2021-07-13T20:45:53.358539",
     "exception": false,
     "start_time": "2021-07-13T20:45:53.326230",
     "status": "completed"
    },
    "tags": []
   },
   "source": [
    "**Выделим численные, категориальные и бинарные признаки**"
   ]
  },
  {
   "cell_type": "code",
   "execution_count": null,
   "id": "be24769a",
   "metadata": {
    "papermill": {
     "duration": 0.032655,
     "end_time": "2021-07-13T20:45:53.424251",
     "exception": false,
     "start_time": "2021-07-13T20:45:53.391596",
     "status": "completed"
    },
    "tags": []
   },
   "outputs": [],
   "source": []
  },
  {
   "cell_type": "code",
   "execution_count": 17,
   "id": "1f2119fc",
   "metadata": {
    "execution": {
     "iopub.execute_input": "2021-07-13T20:45:53.494760Z",
     "iopub.status.busy": "2021-07-13T20:45:53.494178Z",
     "iopub.status.idle": "2021-07-13T20:45:53.497601Z",
     "shell.execute_reply": "2021-07-13T20:45:53.497134Z",
     "shell.execute_reply.started": "2021-07-13T20:42:36.019292Z"
    },
    "papermill": {
     "duration": 0.04052,
     "end_time": "2021-07-13T20:45:53.497743",
     "exception": false,
     "start_time": "2021-07-13T20:45:53.457223",
     "status": "completed"
    },
    "tags": []
   },
   "outputs": [],
   "source": [
    "num_cols = ['age','decline_app_cnt','score_bki','income','bki_request_cnt','region_rating'] \n",
    "cat_cols = ['education','work_address','home_address','sna','first_time'] \n",
    "bin_cols = ['sex','car','car_type','good_work','foreign_passport'] "
   ]
  },
  {
   "cell_type": "markdown",
   "id": "58129fbf",
   "metadata": {
    "papermill": {
     "duration": 0.032952,
     "end_time": "2021-07-13T20:45:53.564545",
     "exception": false,
     "start_time": "2021-07-13T20:45:53.531593",
     "status": "completed"
    },
    "tags": []
   },
   "source": [
    "Работаем с числовыми\n"
   ]
  },
  {
   "cell_type": "code",
   "execution_count": 18,
   "id": "b66660dc",
   "metadata": {
    "execution": {
     "iopub.execute_input": "2021-07-13T20:45:53.682870Z",
     "iopub.status.busy": "2021-07-13T20:45:53.672007Z",
     "iopub.status.idle": "2021-07-13T20:45:55.128366Z",
     "shell.execute_reply": "2021-07-13T20:45:55.128823Z",
     "shell.execute_reply.started": "2021-07-13T20:42:36.025993Z"
    },
    "papermill": {
     "duration": 1.53088,
     "end_time": "2021-07-13T20:45:55.128985",
     "exception": false,
     "start_time": "2021-07-13T20:45:53.598105",
     "status": "completed"
    },
    "tags": []
   },
   "outputs": [
    {
     "name": "stderr",
     "output_type": "stream",
     "text": [
      "/opt/conda/lib/python3.7/site-packages/seaborn/distributions.py:2557: FutureWarning: `distplot` is a deprecated function and will be removed in a future version. Please adapt your code to use either `displot` (a figure-level function with similar flexibility) or `histplot` (an axes-level function for histograms).\n",
      "  warnings.warn(msg, FutureWarning)\n"
     ]
    },
    {
     "data": {
      "image/png": "[encoded data removed]",
      "text/plain": [
       "<Figure size 1800x720 with 6 Axes>"
      ]
     },
     "metadata": {
      "needs_background": "light"
     },
     "output_type": "display_data"
    }
   ],
   "source": [
    "fig, axes = plt.subplots(2 , 3, figsize=(25,10))\n",
    "\n",
    "for i,var in enumerate(num_cols):\n",
    "    sns.distplot(data[var], kde=False, ax=axes.flat[i], color=\"g\")"
   ]
  },
  {
   "cell_type": "markdown",
   "id": "6da70fff",
   "metadata": {
    "papermill": {
     "duration": 0.03475,
     "end_time": "2021-07-13T20:45:55.198705",
     "exception": false,
     "start_time": "2021-07-13T20:45:55.163955",
     "status": "completed"
    },
    "tags": []
   },
   "source": [
    "За исключением параметра score_bki, распределения не являются номральными, попробуем прологарифмировать\n"
   ]
  },
  {
   "cell_type": "code",
   "execution_count": 19,
   "id": "6d3c40d4",
   "metadata": {
    "execution": {
     "iopub.execute_input": "2021-07-13T20:45:55.288247Z",
     "iopub.status.busy": "2021-07-13T20:45:55.286553Z",
     "iopub.status.idle": "2021-07-13T20:45:56.199581Z",
     "shell.execute_reply": "2021-07-13T20:45:56.198990Z",
     "shell.execute_reply.started": "2021-07-13T20:42:37.731182Z"
    },
    "papermill": {
     "duration": 0.966624,
     "end_time": "2021-07-13T20:45:56.199719",
     "exception": false,
     "start_time": "2021-07-13T20:45:55.233095",
     "status": "completed"
    },
    "tags": []
   },
   "outputs": [
    {
     "data": {
      "image/png": "[encoded data removed]",
      "text/plain": [
       "<Figure size 1440x720 with 4 Axes>"
      ]
     },
     "metadata": {
      "needs_background": "light"
     },
     "output_type": "display_data"
    }
   ],
   "source": [
    "fig, axes = plt.subplots(1,4, figsize = (20, 10))\n",
    "\n",
    "for i, var in enumerate([ 'decline_app_cnt', 'bki_request_cnt', 'income', 'region_rating']):\n",
    "    data[var] = np.log(data[var] + 1)\n",
    "    sns.distplot(data[var], ax = axes.flat[i], kde = False, rug = False, color = 'g')"
   ]
  },
  {
   "cell_type": "markdown",
   "id": "93377273",
   "metadata": {
    "papermill": {
     "duration": 0.035367,
     "end_time": "2021-07-13T20:45:56.270708",
     "exception": false,
     "start_time": "2021-07-13T20:45:56.235341",
     "status": "completed"
    },
    "tags": []
   },
   "source": [
    "Работаем с категориальными"
   ]
  },
  {
   "cell_type": "code",
   "execution_count": 20,
   "id": "1accfe7f",
   "metadata": {
    "execution": {
     "iopub.execute_input": "2021-07-13T20:45:56.347394Z",
     "iopub.status.busy": "2021-07-13T20:45:56.346808Z",
     "iopub.status.idle": "2021-07-13T20:45:57.705250Z",
     "shell.execute_reply": "2021-07-13T20:45:57.705695Z",
     "shell.execute_reply.started": "2021-07-13T20:42:38.842069Z"
    },
    "papermill": {
     "duration": 1.399407,
     "end_time": "2021-07-13T20:45:57.705855",
     "exception": false,
     "start_time": "2021-07-13T20:45:56.306448",
     "status": "completed"
    },
    "tags": []
   },
   "outputs": [
    {
     "data": {
      "text/plain": [
       "<AxesSubplot:>"
      ]
     },
     "execution_count": 20,
     "metadata": {},
     "output_type": "execute_result"
    },
    {
     "data": {
      "image/png": "[encoded data removed]",
      "text/plain": [
       "<Figure size 1440x720 with 2 Axes>"
      ]
     },
     "metadata": {
      "needs_background": "light"
     },
     "output_type": "display_data"
    }
   ],
   "source": [
    "plt.rcParams['figure.figsize'] = (20,10)\n",
    "sns.heatmap(data.corr(), vmin=0, vmax=1, annot = True)"
   ]
  },
  {
   "cell_type": "markdown",
   "id": "3285184d",
   "metadata": {
    "papermill": {
     "duration": 0.038753,
     "end_time": "2021-07-13T20:45:57.784284",
     "exception": false,
     "start_time": "2021-07-13T20:45:57.745531",
     "status": "completed"
    },
    "tags": []
   },
   "source": [
    "Ничего экстраординарного нет, приступаем к feature engineering\n"
   ]
  },
  {
   "cell_type": "code",
   "execution_count": 21,
   "id": "2c05ba83",
   "metadata": {
    "execution": {
     "iopub.execute_input": "2021-07-13T20:45:57.894754Z",
     "iopub.status.busy": "2021-07-13T20:45:57.893776Z",
     "iopub.status.idle": "2021-07-13T20:45:57.897702Z",
     "shell.execute_reply": "2021-07-13T20:45:57.898238Z",
     "shell.execute_reply.started": "2021-07-13T20:42:40.425920Z"
    },
    "papermill": {
     "duration": 0.075094,
     "end_time": "2021-07-13T20:45:57.898398",
     "exception": false,
     "start_time": "2021-07-13T20:45:57.823304",
     "status": "completed"
    },
    "tags": []
   },
   "outputs": [
    {
     "data": {
      "text/html": [
       "<div>\n",
       "<style scoped>\n",
       "    .dataframe tbody tr th:only-of-type {\n",
       "        vertical-align: middle;\n",
       "    }\n",
       "\n",
       "    .dataframe tbody tr th {\n",
       "        vertical-align: top;\n",
       "    }\n",
       "\n",
       "    .dataframe thead th {\n",
       "        text-align: right;\n",
       "    }\n",
       "</style>\n",
       "<table border=\"1\" class=\"dataframe\">\n",
       "  <thead>\n",
       "    <tr style=\"text-align: right;\">\n",
       "      <th></th>\n",
       "      <th>client_id</th>\n",
       "      <th>app_date</th>\n",
       "      <th>education</th>\n",
       "      <th>sex</th>\n",
       "      <th>age</th>\n",
       "      <th>car</th>\n",
       "      <th>car_type</th>\n",
       "      <th>decline_app_cnt</th>\n",
       "      <th>good_work</th>\n",
       "      <th>score_bki</th>\n",
       "      <th>bki_request_cnt</th>\n",
       "      <th>region_rating</th>\n",
       "      <th>home_address</th>\n",
       "      <th>work_address</th>\n",
       "      <th>income</th>\n",
       "      <th>sna</th>\n",
       "      <th>first_time</th>\n",
       "      <th>foreign_passport</th>\n",
       "      <th>default</th>\n",
       "      <th>IsTrain</th>\n",
       "    </tr>\n",
       "  </thead>\n",
       "  <tbody>\n",
       "    <tr>\n",
       "      <th>0</th>\n",
       "      <td>25905</td>\n",
       "      <td>01FEB2014</td>\n",
       "      <td>SCH</td>\n",
       "      <td>M</td>\n",
       "      <td>62</td>\n",
       "      <td>Y</td>\n",
       "      <td>Y</td>\n",
       "      <td>0.000000</td>\n",
       "      <td>0</td>\n",
       "      <td>-2.008753</td>\n",
       "      <td>0.693147</td>\n",
       "      <td>3.931826</td>\n",
       "      <td>1</td>\n",
       "      <td>2</td>\n",
       "      <td>9.798183</td>\n",
       "      <td>4</td>\n",
       "      <td>1</td>\n",
       "      <td>N</td>\n",
       "      <td>0</td>\n",
       "      <td>1</td>\n",
       "    </tr>\n",
       "    <tr>\n",
       "      <th>1</th>\n",
       "      <td>63161</td>\n",
       "      <td>12MAR2014</td>\n",
       "      <td>SCH</td>\n",
       "      <td>F</td>\n",
       "      <td>59</td>\n",
       "      <td>N</td>\n",
       "      <td>N</td>\n",
       "      <td>0.000000</td>\n",
       "      <td>0</td>\n",
       "      <td>-1.532276</td>\n",
       "      <td>1.386294</td>\n",
       "      <td>3.931826</td>\n",
       "      <td>2</td>\n",
       "      <td>3</td>\n",
       "      <td>9.852247</td>\n",
       "      <td>4</td>\n",
       "      <td>1</td>\n",
       "      <td>N</td>\n",
       "      <td>0</td>\n",
       "      <td>1</td>\n",
       "    </tr>\n",
       "    <tr>\n",
       "      <th>2</th>\n",
       "      <td>25887</td>\n",
       "      <td>01FEB2014</td>\n",
       "      <td>SCH</td>\n",
       "      <td>M</td>\n",
       "      <td>25</td>\n",
       "      <td>Y</td>\n",
       "      <td>N</td>\n",
       "      <td>1.098612</td>\n",
       "      <td>0</td>\n",
       "      <td>-1.408142</td>\n",
       "      <td>0.693147</td>\n",
       "      <td>4.394449</td>\n",
       "      <td>1</td>\n",
       "      <td>2</td>\n",
       "      <td>10.308986</td>\n",
       "      <td>1</td>\n",
       "      <td>4</td>\n",
       "      <td>Y</td>\n",
       "      <td>0</td>\n",
       "      <td>1</td>\n",
       "    </tr>\n",
       "    <tr>\n",
       "      <th>3</th>\n",
       "      <td>16222</td>\n",
       "      <td>23JAN2014</td>\n",
       "      <td>SCH</td>\n",
       "      <td>F</td>\n",
       "      <td>53</td>\n",
       "      <td>N</td>\n",
       "      <td>N</td>\n",
       "      <td>0.000000</td>\n",
       "      <td>0</td>\n",
       "      <td>-2.057471</td>\n",
       "      <td>1.098612</td>\n",
       "      <td>3.931826</td>\n",
       "      <td>2</td>\n",
       "      <td>3</td>\n",
       "      <td>9.210440</td>\n",
       "      <td>1</td>\n",
       "      <td>3</td>\n",
       "      <td>N</td>\n",
       "      <td>0</td>\n",
       "      <td>1</td>\n",
       "    </tr>\n",
       "    <tr>\n",
       "      <th>4</th>\n",
       "      <td>101655</td>\n",
       "      <td>18APR2014</td>\n",
       "      <td>GRD</td>\n",
       "      <td>M</td>\n",
       "      <td>48</td>\n",
       "      <td>N</td>\n",
       "      <td>N</td>\n",
       "      <td>0.000000</td>\n",
       "      <td>1</td>\n",
       "      <td>-1.244723</td>\n",
       "      <td>0.693147</td>\n",
       "      <td>4.110874</td>\n",
       "      <td>2</td>\n",
       "      <td>3</td>\n",
       "      <td>10.308986</td>\n",
       "      <td>1</td>\n",
       "      <td>4</td>\n",
       "      <td>Y</td>\n",
       "      <td>0</td>\n",
       "      <td>1</td>\n",
       "    </tr>\n",
       "    <tr>\n",
       "      <th>...</th>\n",
       "      <td>...</td>\n",
       "      <td>...</td>\n",
       "      <td>...</td>\n",
       "      <td>...</td>\n",
       "      <td>...</td>\n",
       "      <td>...</td>\n",
       "      <td>...</td>\n",
       "      <td>...</td>\n",
       "      <td>...</td>\n",
       "      <td>...</td>\n",
       "      <td>...</td>\n",
       "      <td>...</td>\n",
       "      <td>...</td>\n",
       "      <td>...</td>\n",
       "      <td>...</td>\n",
       "      <td>...</td>\n",
       "      <td>...</td>\n",
       "      <td>...</td>\n",
       "      <td>...</td>\n",
       "      <td>...</td>\n",
       "    </tr>\n",
       "    <tr>\n",
       "      <th>110143</th>\n",
       "      <td>83775</td>\n",
       "      <td>31MAR2014</td>\n",
       "      <td>SCH</td>\n",
       "      <td>F</td>\n",
       "      <td>37</td>\n",
       "      <td>N</td>\n",
       "      <td>N</td>\n",
       "      <td>0.693147</td>\n",
       "      <td>0</td>\n",
       "      <td>-1.744976</td>\n",
       "      <td>1.386294</td>\n",
       "      <td>3.931826</td>\n",
       "      <td>2</td>\n",
       "      <td>3</td>\n",
       "      <td>9.615872</td>\n",
       "      <td>4</td>\n",
       "      <td>1</td>\n",
       "      <td>N</td>\n",
       "      <td>404</td>\n",
       "      <td>0</td>\n",
       "    </tr>\n",
       "    <tr>\n",
       "      <th>110144</th>\n",
       "      <td>106254</td>\n",
       "      <td>25APR2014</td>\n",
       "      <td>GRD</td>\n",
       "      <td>F</td>\n",
       "      <td>64</td>\n",
       "      <td>Y</td>\n",
       "      <td>Y</td>\n",
       "      <td>0.000000</td>\n",
       "      <td>0</td>\n",
       "      <td>-2.293781</td>\n",
       "      <td>1.386294</td>\n",
       "      <td>4.110874</td>\n",
       "      <td>1</td>\n",
       "      <td>2</td>\n",
       "      <td>12.206078</td>\n",
       "      <td>1</td>\n",
       "      <td>4</td>\n",
       "      <td>N</td>\n",
       "      <td>404</td>\n",
       "      <td>0</td>\n",
       "    </tr>\n",
       "    <tr>\n",
       "      <th>110145</th>\n",
       "      <td>81852</td>\n",
       "      <td>30MAR2014</td>\n",
       "      <td>GRD</td>\n",
       "      <td>M</td>\n",
       "      <td>31</td>\n",
       "      <td>N</td>\n",
       "      <td>N</td>\n",
       "      <td>1.098612</td>\n",
       "      <td>0</td>\n",
       "      <td>-0.940752</td>\n",
       "      <td>0.693147</td>\n",
       "      <td>3.931826</td>\n",
       "      <td>1</td>\n",
       "      <td>2</td>\n",
       "      <td>11.002117</td>\n",
       "      <td>4</td>\n",
       "      <td>2</td>\n",
       "      <td>N</td>\n",
       "      <td>404</td>\n",
       "      <td>0</td>\n",
       "    </tr>\n",
       "    <tr>\n",
       "      <th>110146</th>\n",
       "      <td>1971</td>\n",
       "      <td>07JAN2014</td>\n",
       "      <td>UGR</td>\n",
       "      <td>F</td>\n",
       "      <td>27</td>\n",
       "      <td>N</td>\n",
       "      <td>N</td>\n",
       "      <td>0.693147</td>\n",
       "      <td>0</td>\n",
       "      <td>-1.242392</td>\n",
       "      <td>1.098612</td>\n",
       "      <td>4.394449</td>\n",
       "      <td>2</td>\n",
       "      <td>3</td>\n",
       "      <td>10.308986</td>\n",
       "      <td>1</td>\n",
       "      <td>1</td>\n",
       "      <td>N</td>\n",
       "      <td>404</td>\n",
       "      <td>0</td>\n",
       "    </tr>\n",
       "    <tr>\n",
       "      <th>110147</th>\n",
       "      <td>69044</td>\n",
       "      <td>17MAR2014</td>\n",
       "      <td>SCH</td>\n",
       "      <td>M</td>\n",
       "      <td>38</td>\n",
       "      <td>N</td>\n",
       "      <td>N</td>\n",
       "      <td>0.000000</td>\n",
       "      <td>0</td>\n",
       "      <td>-1.507549</td>\n",
       "      <td>1.098612</td>\n",
       "      <td>3.931826</td>\n",
       "      <td>1</td>\n",
       "      <td>2</td>\n",
       "      <td>9.615872</td>\n",
       "      <td>4</td>\n",
       "      <td>2</td>\n",
       "      <td>N</td>\n",
       "      <td>404</td>\n",
       "      <td>0</td>\n",
       "    </tr>\n",
       "  </tbody>\n",
       "</table>\n",
       "<p>110148 rows × 20 columns</p>\n",
       "</div>"
      ],
      "text/plain": [
       "        client_id   app_date education sex  age car car_type  decline_app_cnt  \\\n",
       "0           25905  01FEB2014       SCH   M   62   Y        Y         0.000000   \n",
       "1           63161  12MAR2014       SCH   F   59   N        N         0.000000   \n",
       "2           25887  01FEB2014       SCH   M   25   Y        N         1.098612   \n",
       "3           16222  23JAN2014       SCH   F   53   N        N         0.000000   \n",
       "4          101655  18APR2014       GRD   M   48   N        N         0.000000   \n",
       "...           ...        ...       ...  ..  ...  ..      ...              ...   \n",
       "110143      83775  31MAR2014       SCH   F   37   N        N         0.693147   \n",
       "110144     106254  25APR2014       GRD   F   64   Y        Y         0.000000   \n",
       "110145      81852  30MAR2014       GRD   M   31   N        N         1.098612   \n",
       "110146       1971  07JAN2014       UGR   F   27   N        N         0.693147   \n",
       "110147      69044  17MAR2014       SCH   M   38   N        N         0.000000   \n",
       "\n",
       "        good_work  score_bki  bki_request_cnt  region_rating  home_address  \\\n",
       "0               0  -2.008753         0.693147       3.931826             1   \n",
       "1               0  -1.532276         1.386294       3.931826             2   \n",
       "2               0  -1.408142         0.693147       4.394449             1   \n",
       "3               0  -2.057471         1.098612       3.931826             2   \n",
       "4               1  -1.244723         0.693147       4.110874             2   \n",
       "...           ...        ...              ...            ...           ...   \n",
       "110143          0  -1.744976         1.386294       3.931826             2   \n",
       "110144          0  -2.293781         1.386294       4.110874             1   \n",
       "110145          0  -0.940752         0.693147       3.931826             1   \n",
       "110146          0  -1.242392         1.098612       4.394449             2   \n",
       "110147          0  -1.507549         1.098612       3.931826             1   \n",
       "\n",
       "        work_address     income  sna  first_time foreign_passport  default  \\\n",
       "0                  2   9.798183    4           1                N        0   \n",
       "1                  3   9.852247    4           1                N        0   \n",
       "2                  2  10.308986    1           4                Y        0   \n",
       "3                  3   9.210440    1           3                N        0   \n",
       "4                  3  10.308986    1           4                Y        0   \n",
       "...              ...        ...  ...         ...              ...      ...   \n",
       "110143             3   9.615872    4           1                N      404   \n",
       "110144             2  12.206078    1           4                N      404   \n",
       "110145             2  11.002117    4           2                N      404   \n",
       "110146             3  10.308986    1           1                N      404   \n",
       "110147             2   9.615872    4           2                N      404   \n",
       "\n",
       "        IsTrain  \n",
       "0             1  \n",
       "1             1  \n",
       "2             1  \n",
       "3             1  \n",
       "4             1  \n",
       "...         ...  \n",
       "110143        0  \n",
       "110144        0  \n",
       "110145        0  \n",
       "110146        0  \n",
       "110147        0  \n",
       "\n",
       "[110148 rows x 20 columns]"
      ]
     },
     "execution_count": 21,
     "metadata": {},
     "output_type": "execute_result"
    }
   ],
   "source": [
    "data"
   ]
  },
  {
   "cell_type": "code",
   "execution_count": 22,
   "id": "dfff8312",
   "metadata": {
    "execution": {
     "iopub.execute_input": "2021-07-13T20:45:57.981863Z",
     "iopub.status.busy": "2021-07-13T20:45:57.980982Z",
     "iopub.status.idle": "2021-07-13T20:45:57.993126Z",
     "shell.execute_reply": "2021-07-13T20:45:57.992523Z",
     "shell.execute_reply.started": "2021-07-13T20:42:40.469633Z"
    },
    "papermill": {
     "duration": 0.054744,
     "end_time": "2021-07-13T20:45:57.993261",
     "exception": false,
     "start_time": "2021-07-13T20:45:57.938517",
     "status": "completed"
    },
    "tags": []
   },
   "outputs": [],
   "source": [
    "data['mean_income_age'] = data['age'].map(data.groupby('age')['income'].mean())"
   ]
  },
  {
   "cell_type": "code",
   "execution_count": 23,
   "id": "f88960cd",
   "metadata": {
    "execution": {
     "iopub.execute_input": "2021-07-13T20:45:58.078699Z",
     "iopub.status.busy": "2021-07-13T20:45:58.078049Z",
     "iopub.status.idle": "2021-07-13T20:45:58.086679Z",
     "shell.execute_reply": "2021-07-13T20:45:58.087091Z",
     "shell.execute_reply.started": "2021-07-13T20:42:40.487965Z"
    },
    "papermill": {
     "duration": 0.053738,
     "end_time": "2021-07-13T20:45:58.087285",
     "exception": false,
     "start_time": "2021-07-13T20:45:58.033547",
     "status": "completed"
    },
    "tags": []
   },
   "outputs": [],
   "source": [
    "data['mean_income_region'] = data['region_rating'].map(data.groupby('region_rating')['income'].mean())"
   ]
  },
  {
   "cell_type": "code",
   "execution_count": 24,
   "id": "456da0bc",
   "metadata": {
    "execution": {
     "iopub.execute_input": "2021-07-13T20:45:58.178031Z",
     "iopub.status.busy": "2021-07-13T20:45:58.177402Z",
     "iopub.status.idle": "2021-07-13T20:46:42.322864Z",
     "shell.execute_reply": "2021-07-13T20:46:42.322237Z",
     "shell.execute_reply.started": "2021-07-13T20:42:40.502979Z"
    },
    "papermill": {
     "duration": 44.194573,
     "end_time": "2021-07-13T20:46:42.323003",
     "exception": false,
     "start_time": "2021-07-13T20:45:58.128430",
     "status": "completed"
    },
    "tags": []
   },
   "outputs": [],
   "source": [
    "data['app_date'] = pd.to_datetime(data.app_date)\n",
    "data['app_date'] = data['app_date'].apply(lambda x: (x - data['app_date'].min()).days)"
   ]
  },
  {
   "cell_type": "code",
   "execution_count": 25,
   "id": "33638701",
   "metadata": {
    "execution": {
     "iopub.execute_input": "2021-07-13T20:46:42.408985Z",
     "iopub.status.busy": "2021-07-13T20:46:42.408357Z",
     "iopub.status.idle": "2021-07-13T20:46:42.495237Z",
     "shell.execute_reply": "2021-07-13T20:46:42.493965Z",
     "shell.execute_reply.started": "2021-07-13T20:43:25.929440Z"
    },
    "papermill": {
     "duration": 0.132008,
     "end_time": "2021-07-13T20:46:42.495561",
     "exception": true,
     "start_time": "2021-07-13T20:46:42.363553",
     "status": "failed"
    },
    "tags": []
   },
   "outputs": [
    {
     "ename": "NameError",
     "evalue": "name 'df' is not defined",
     "output_type": "error",
     "traceback": [
      "\u001b[0;31m---------------------------------------------------------------------------\u001b[0m",
      "\u001b[0;31mNameError\u001b[0m                                 Traceback (most recent call last)",
      "\u001b[0;32m<ipython-input-25-4220fef65962>\u001b[0m in \u001b[0;36m<module>\u001b[0;34m\u001b[0m\n\u001b[0;32m----> 1\u001b[0;31m \u001b[0mdata\u001b[0m\u001b[0;34m[\u001b[0m\u001b[0mnum_cols\u001b[0m\u001b[0;34m]\u001b[0m \u001b[0;34m=\u001b[0m \u001b[0mpd\u001b[0m\u001b[0;34m.\u001b[0m\u001b[0mDataFrame\u001b[0m\u001b[0;34m(\u001b[0m\u001b[0mStandardScaler\u001b[0m\u001b[0;34m(\u001b[0m\u001b[0;34m)\u001b[0m\u001b[0;34m.\u001b[0m\u001b[0mfit_transform\u001b[0m\u001b[0;34m(\u001b[0m\u001b[0mdf\u001b[0m\u001b[0;34m[\u001b[0m\u001b[0mnum_cols\u001b[0m\u001b[0;34m]\u001b[0m\u001b[0;34m)\u001b[0m\u001b[0;34m,\u001b[0m \u001b[0mcolumns\u001b[0m \u001b[0;34m=\u001b[0m \u001b[0mdf\u001b[0m\u001b[0;34m[\u001b[0m\u001b[0mnum_cols\u001b[0m\u001b[0;34m]\u001b[0m\u001b[0;34m.\u001b[0m\u001b[0mcolumns\u001b[0m\u001b[0;34m)\u001b[0m\u001b[0;34m\u001b[0m\u001b[0;34m\u001b[0m\u001b[0m\n\u001b[0m",
      "\u001b[0;31mNameError\u001b[0m: name 'df' is not defined"
     ]
    }
   ],
   "source": [
    "data[num_cols] = pd.DataFrame(StandardScaler().fit_transform(df[num_cols]), columns = df[num_cols].columns)"
   ]
  },
  {
   "cell_type": "code",
   "execution_count": null,
   "id": "7ca92194",
   "metadata": {
    "execution": {
     "iopub.execute_input": "2021-07-13T20:43:25.963069Z",
     "iopub.status.busy": "2021-07-13T20:43:25.962774Z",
     "iopub.status.idle": "2021-07-13T20:43:26.034904Z",
     "shell.execute_reply": "2021-07-13T20:43:26.034150Z",
     "shell.execute_reply.started": "2021-07-13T20:43:25.963039Z"
    },
    "papermill": {
     "duration": null,
     "end_time": null,
     "exception": null,
     "start_time": null,
     "status": "pending"
    },
    "tags": []
   },
   "outputs": [],
   "source": [
    "data = pd.get_dummies(data, prefix=cat_cols, columns=cat_cols)\n"
   ]
  },
  {
   "cell_type": "code",
   "execution_count": null,
   "id": "a5fc4761",
   "metadata": {
    "execution": {
     "iopub.execute_input": "2021-07-13T20:43:26.036859Z",
     "iopub.status.busy": "2021-07-13T20:43:26.036422Z",
     "iopub.status.idle": "2021-07-13T20:43:26.195622Z",
     "shell.execute_reply": "2021-07-13T20:43:26.194775Z",
     "shell.execute_reply.started": "2021-07-13T20:43:26.036815Z"
    },
    "papermill": {
     "duration": null,
     "end_time": null,
     "exception": null,
     "start_time": null,
     "status": "pending"
    },
    "tags": []
   },
   "outputs": [],
   "source": [
    "data.loc[data['sex'] == 'M', 'sex'] = 1\n",
    "data.loc[data['sex'] == 'F', 'sex'] = 0\n",
    "data.loc[data['car'] == 'Y', 'car'] = 1\n",
    "data.loc[data['car'] == 'N', 'car'] = 0\n",
    "data.loc[data['car_type'] == 'Y', 'car_type'] = 1\n",
    "data.loc[data['car_type'] == 'N', 'car_type'] = 0\n",
    "data.loc[data['foreign_passport'] == 'Y', 'foreign_passport'] = 1\n",
    "data.loc[data['foreign_passport'] == 'N', 'foreign_passport'] = 0"
   ]
  },
  {
   "cell_type": "code",
   "execution_count": null,
   "id": "a2bbe9c2",
   "metadata": {
    "execution": {
     "iopub.execute_input": "2021-07-13T20:43:26.197479Z",
     "iopub.status.busy": "2021-07-13T20:43:26.196858Z",
     "iopub.status.idle": "2021-07-13T20:43:26.270208Z",
     "shell.execute_reply": "2021-07-13T20:43:26.269462Z",
     "shell.execute_reply.started": "2021-07-13T20:43:26.197434Z"
    },
    "papermill": {
     "duration": null,
     "end_time": null,
     "exception": null,
     "start_time": null,
     "status": "pending"
    },
    "tags": []
   },
   "outputs": [],
   "source": [
    "data"
   ]
  },
  {
   "cell_type": "markdown",
   "id": "6f8af163",
   "metadata": {
    "papermill": {
     "duration": null,
     "end_time": null,
     "exception": null,
     "start_time": null,
     "status": "pending"
    },
    "tags": []
   },
   "source": [
    "Можно начинать делать модель\n"
   ]
  },
  {
   "cell_type": "code",
   "execution_count": null,
   "id": "65faa252",
   "metadata": {
    "execution": {
     "iopub.execute_input": "2021-07-13T20:43:26.271599Z",
     "iopub.status.busy": "2021-07-13T20:43:26.271203Z",
     "iopub.status.idle": "2021-07-13T20:43:26.324626Z",
     "shell.execute_reply": "2021-07-13T20:43:26.323476Z",
     "shell.execute_reply.started": "2021-07-13T20:43:26.271571Z"
    },
    "papermill": {
     "duration": null,
     "end_time": null,
     "exception": null,
     "start_time": null,
     "status": "pending"
    },
    "tags": []
   },
   "outputs": [],
   "source": [
    "data_train = data[data['IsTrain'] == 1].drop(['IsTrain','client_id'], axis=1)\n",
    "data_test = data[data['IsTrain'] == 0].drop(['IsTrain','client_id'], axis=1)"
   ]
  },
  {
   "cell_type": "code",
   "execution_count": null,
   "id": "59ed9d43",
   "metadata": {
    "execution": {
     "iopub.execute_input": "2021-07-13T20:43:26.326374Z",
     "iopub.status.busy": "2021-07-13T20:43:26.326021Z",
     "iopub.status.idle": "2021-07-13T20:43:26.453579Z",
     "shell.execute_reply": "2021-07-13T20:43:26.452815Z",
     "shell.execute_reply.started": "2021-07-13T20:43:26.326341Z"
    },
    "papermill": {
     "duration": null,
     "end_time": null,
     "exception": null,
     "start_time": null,
     "status": "pending"
    },
    "tags": []
   },
   "outputs": [],
   "source": [
    "X = data_train.drop(['default'], axis=1).values\n",
    "Y = data_train['default'].values \n"
   ]
  },
  {
   "cell_type": "code",
   "execution_count": null,
   "id": "07954744",
   "metadata": {
    "execution": {
     "iopub.execute_input": "2021-07-13T20:43:26.455198Z",
     "iopub.status.busy": "2021-07-13T20:43:26.454715Z",
     "iopub.status.idle": "2021-07-13T20:43:26.784468Z",
     "shell.execute_reply": "2021-07-13T20:43:26.783660Z",
     "shell.execute_reply.started": "2021-07-13T20:43:26.455117Z"
    },
    "papermill": {
     "duration": null,
     "end_time": null,
     "exception": null,
     "start_time": null,
     "status": "pending"
    },
    "tags": []
   },
   "outputs": [],
   "source": [
    "X_train, X_valid, Y_train, Y_valid = train_test_split(X, Y, test_size=0.20, random_state=42)"
   ]
  },
  {
   "cell_type": "code",
   "execution_count": null,
   "id": "a0da3a09",
   "metadata": {
    "execution": {
     "iopub.execute_input": "2021-07-13T20:43:26.786024Z",
     "iopub.status.busy": "2021-07-13T20:43:26.785571Z",
     "iopub.status.idle": "2021-07-13T20:43:26.789614Z",
     "shell.execute_reply": "2021-07-13T20:43:26.788893Z",
     "shell.execute_reply.started": "2021-07-13T20:43:26.785973Z"
    },
    "papermill": {
     "duration": null,
     "end_time": null,
     "exception": null,
     "start_time": null,
     "status": "pending"
    },
    "tags": []
   },
   "outputs": [],
   "source": [
    "model = LogisticRegression(max_iter = 1000)"
   ]
  },
  {
   "cell_type": "code",
   "execution_count": null,
   "id": "27b817d6",
   "metadata": {
    "execution": {
     "iopub.execute_input": "2021-07-13T20:43:26.791186Z",
     "iopub.status.busy": "2021-07-13T20:43:26.790736Z",
     "iopub.status.idle": "2021-07-13T20:43:31.956596Z",
     "shell.execute_reply": "2021-07-13T20:43:31.955484Z",
     "shell.execute_reply.started": "2021-07-13T20:43:26.791145Z"
    },
    "papermill": {
     "duration": null,
     "end_time": null,
     "exception": null,
     "start_time": null,
     "status": "pending"
    },
    "tags": []
   },
   "outputs": [],
   "source": [
    "model.fit(X_train, Y_train)\n",
    "y_pred = model.predict(X_valid)"
   ]
  },
  {
   "cell_type": "markdown",
   "id": "9095b112",
   "metadata": {
    "papermill": {
     "duration": null,
     "end_time": null,
     "exception": null,
     "start_time": null,
     "status": "pending"
    },
    "tags": []
   },
   "source": [
    "**ROC AUC**"
   ]
  },
  {
   "cell_type": "code",
   "execution_count": null,
   "id": "681728b9",
   "metadata": {
    "execution": {
     "iopub.execute_input": "2021-07-13T20:43:31.966726Z",
     "iopub.status.busy": "2021-07-13T20:43:31.963040Z",
     "iopub.status.idle": "2021-07-13T20:43:32.312653Z",
     "shell.execute_reply": "2021-07-13T20:43:32.311699Z",
     "shell.execute_reply.started": "2021-07-13T20:43:31.966660Z"
    },
    "papermill": {
     "duration": null,
     "end_time": null,
     "exception": null,
     "start_time": null,
     "status": "pending"
    },
    "tags": []
   },
   "outputs": [],
   "source": [
    "probs = model.predict_proba(X_valid)\n",
    "probs = probs[:,1]\n",
    "\n",
    "\n",
    "fpr, tpr, threshold = roc_curve(Y_valid, probs)\n",
    "roc_auc = roc_auc_score(Y_valid, probs)\n",
    "\n",
    "plt.figure()\n",
    "plt.plot([0, 1], label='Baseline', linestyle='--')\n",
    "plt.plot(fpr, tpr, label = 'Regression')\n",
    "plt.title('Logistic Regression ROC AUC = %0.3f' % roc_auc)\n",
    "plt.ylabel('True Positive Rate')\n",
    "plt.xlabel('False Positive Rate')\n",
    "plt.legend(loc = 'lower right')\n",
    "plt.show()"
   ]
  },
  {
   "cell_type": "code",
   "execution_count": null,
   "id": "8858b358",
   "metadata": {
    "execution": {
     "iopub.execute_input": "2021-07-13T20:43:32.314518Z",
     "iopub.status.busy": "2021-07-13T20:43:32.313934Z",
     "iopub.status.idle": "2021-07-13T20:43:32.341937Z",
     "shell.execute_reply": "2021-07-13T20:43:32.340873Z",
     "shell.execute_reply.started": "2021-07-13T20:43:32.314473Z"
    },
    "papermill": {
     "duration": null,
     "end_time": null,
     "exception": null,
     "start_time": null,
     "status": "pending"
    },
    "tags": []
   },
   "outputs": [],
   "source": [
    "print('accuracy_score:',accuracy_score(Y_valid,y_pred))\n",
    "print('precision_score:',precision_score(Y_valid,y_pred))\n",
    "print('recall_score:',recall_score(Y_valid,y_pred))\n",
    "print('f1_score:',f1_score(Y_valid,y_pred))"
   ]
  },
  {
   "cell_type": "code",
   "execution_count": null,
   "id": "af7402dd",
   "metadata": {
    "execution": {
     "iopub.execute_input": "2021-07-13T20:43:32.343611Z",
     "iopub.status.busy": "2021-07-13T20:43:32.343323Z",
     "iopub.status.idle": "2021-07-13T20:43:32.356669Z",
     "shell.execute_reply": "2021-07-13T20:43:32.355607Z",
     "shell.execute_reply.started": "2021-07-13T20:43:32.343584Z"
    },
    "papermill": {
     "duration": null,
     "end_time": null,
     "exception": null,
     "start_time": null,
     "status": "pending"
    },
    "tags": []
   },
   "outputs": [],
   "source": [
    "sample"
   ]
  },
  {
   "cell_type": "code",
   "execution_count": null,
   "id": "3fb02547",
   "metadata": {
    "execution": {
     "iopub.execute_input": "2021-07-13T20:43:32.358300Z",
     "iopub.status.busy": "2021-07-13T20:43:32.357992Z",
     "iopub.status.idle": "2021-07-13T20:43:32.420375Z",
     "shell.execute_reply": "2021-07-13T20:43:32.419326Z",
     "shell.execute_reply.started": "2021-07-13T20:43:32.358272Z"
    },
    "papermill": {
     "duration": null,
     "end_time": null,
     "exception": null,
     "start_time": null,
     "status": "pending"
    },
    "tags": []
   },
   "outputs": [],
   "source": [
    "data_test"
   ]
  },
  {
   "cell_type": "code",
   "execution_count": null,
   "id": "87ff292a",
   "metadata": {
    "execution": {
     "iopub.execute_input": "2021-07-13T20:43:32.421823Z",
     "iopub.status.busy": "2021-07-13T20:43:32.421551Z",
     "iopub.status.idle": "2021-07-13T20:43:32.569504Z",
     "shell.execute_reply": "2021-07-13T20:43:32.568239Z",
     "shell.execute_reply.started": "2021-07-13T20:43:32.421796Z"
    },
    "papermill": {
     "duration": null,
     "end_time": null,
     "exception": null,
     "start_time": null,
     "status": "pending"
    },
    "tags": []
   },
   "outputs": [],
   "source": [
    "\n",
    "y_pred = model.predict_proba(data_test.drop('default', axis = 1))\n",
    "result = pd.DataFrame(data={'client_id':test['client_id'], 'default':y_pred[:,1]})"
   ]
  },
  {
   "cell_type": "code",
   "execution_count": null,
   "id": "3daf6a5a",
   "metadata": {
    "execution": {
     "iopub.execute_input": "2021-07-13T20:43:32.571414Z",
     "iopub.status.busy": "2021-07-13T20:43:32.570990Z",
     "iopub.status.idle": "2021-07-13T20:43:32.593775Z",
     "shell.execute_reply": "2021-07-13T20:43:32.592283Z",
     "shell.execute_reply.started": "2021-07-13T20:43:32.571373Z"
    },
    "papermill": {
     "duration": null,
     "end_time": null,
     "exception": null,
     "start_time": null,
     "status": "pending"
    },
    "tags": []
   },
   "outputs": [],
   "source": [
    "result"
   ]
  },
  {
   "cell_type": "code",
   "execution_count": null,
   "id": "33821c43",
   "metadata": {
    "execution": {
     "iopub.execute_input": "2021-07-13T20:44:06.621152Z",
     "iopub.status.busy": "2021-07-13T20:44:06.620765Z",
     "iopub.status.idle": "2021-07-13T20:44:06.762478Z",
     "shell.execute_reply": "2021-07-13T20:44:06.761610Z",
     "shell.execute_reply.started": "2021-07-13T20:44:06.621109Z"
    },
    "papermill": {
     "duration": null,
     "end_time": null,
     "exception": null,
     "start_time": null,
     "status": "pending"
    },
    "tags": []
   },
   "outputs": [],
   "source": [
    "result.to_csv('submission_for_credit.csv', index=False)"
   ]
  }
 ],
 "metadata": {
  "kernelspec": {
   "display_name": "Python 3",
   "language": "python",
   "name": "python3"
  },
  "language_info": {
   "codemirror_mode": {
    "name": "ipython",
    "version": 3
   },
   "file_extension": ".py",
   "mimetype": "text/x-python",
   "name": "python",
   "nbconvert_exporter": "python",
   "pygments_lexer": "ipython3",
   "version": "3.7.10"
  },
  "papermill": {
   "default_parameters": {},
   "duration": 60.438514,
   "end_time": "2021-07-13T20:46:43.246592",
   "environment_variables": {},
   "exception": true,
   "input_path": "__notebook__.ipynb",
   "output_path": "__notebook__.ipynb",
   "parameters": {},
   "start_time": "2021-07-13T20:45:42.808078",
   "version": "2.3.3"
  }
 },
 "nbformat": 4,
 "nbformat_minor": 5
}
